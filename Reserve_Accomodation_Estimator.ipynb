{
  "nbformat": 4,
  "nbformat_minor": 0,
  "metadata": {
    "colab": {
      "name": "Reserve_Accomodation_Estimator.ipynb",
      "provenance": [],
      "collapsed_sections": [],
      "mount_file_id": "1OezStHtUc3vq9u0YrcUdvDAVRicTZbA8",
      "authorship_tag": "ABX9TyOFBysRjrLIpvBs5cx+h4gD",
      "include_colab_link": true
    },
    "kernelspec": {
      "name": "python3",
      "display_name": "Python 3"
    }
  },
  "cells": [
    {
      "cell_type": "markdown",
      "metadata": {
        "id": "view-in-github",
        "colab_type": "text"
      },
      "source": [
        "<a href=\"https://colab.research.google.com/github/XavierCarrera/Accomodation-reservation-prediction/blob/main/Reserve_Accomodation_Estimator.ipynb\" target=\"_parent\"><img src=\"https://colab.research.google.com/assets/colab-badge.svg\" alt=\"Open In Colab\"/></a>"
      ]
    },
    {
      "cell_type": "markdown",
      "metadata": {
        "id": "SfF9YD3y7H5C"
      },
      "source": [
        "# Introduction and Problem Definition"
      ]
    },
    {
      "cell_type": "markdown",
      "metadata": {
        "id": "lQwtdebWfWpC"
      },
      "source": [
        "[EN]\n",
        "\n",
        "For this problem, we should take data from 7202 stays in order to predict the type of accomodation that a given user will choose. The final result will be a dataset with unlabel data taht will be classified by its features. Specifically, the original dataset has hotels and AirBnB as their accomodation options. \n",
        "\n",
        "We're using classifier algorithms for training our model. For more info, check the following documentatión: https://scikit-learn.org/stable/auto_examples/classification/plot_classifier_comparison.html\n",
        "\n",
        "[ES]\n",
        "\n",
        "Para este problema, debemos tomar los datos de 7202 estadías para predecir que tipo de acomodación elegirá un usuario dado. El resultado final será un dataset con datos no etiquetados que serán clasificados según sus características. Específicamente, el dataset original tiene hoteles y AirBnB como sus opciones de acomodación. \n",
        "\n",
        "Usamos algoritmos de clasificación para entrenar nuestro modelo. Para más información, mira la siguiente documentación: https://scikit-learn.org/stable/auto_examples/classification/plot_classifier_comparison.html"
      ]
    },
    {
      "cell_type": "code",
      "metadata": {
        "id": "4lhgRtMf5UmN"
      },
      "source": [
        "import numpy as np\n",
        "import pandas as pd\n",
        "import matplotlib.pyplot as plt\n",
        "import seaborn as sns\n",
        "\n",
        "from sklearn.model_selection import train_test_split, KFold, cross_val_score\n",
        "from sklearn.metrics import plot_confusion_matrix\n",
        "from sklearn.preprocessing import LabelEncoder\n",
        "from sklearn.pipeline import make_pipeline\n",
        "from sklearn.preprocessing import StandardScaler\n",
        "from sklearn.neural_network import MLPClassifier\n",
        "from sklearn.neighbors import KNeighborsClassifier\n",
        "from sklearn.svm import SVC\n",
        "from sklearn.tree import DecisionTreeClassifier\n",
        "from sklearn.ensemble import RandomForestClassifier\n",
        "\n",
        "%matplotlib inline\n",
        "plt.rcParams['figure.figsize'] = (16, 9)\n",
        "plt.style.use('ggplot')\n",
        "\n",
        "import warnings\n",
        "warnings.filterwarnings('ignore')"
      ],
      "execution_count": 177,
      "outputs": []
    },
    {
      "cell_type": "code",
      "metadata": {
        "id": "QlCNJ6iH9uDF"
      },
      "source": [
        "x = pd.read_csv(\"/content/drive/MyDrive/Colab Notebooks/db/train_data.txt\", sep=\" \", header = None)\n",
        "test = pd.read_csv(\"/content/drive/MyDrive/Colab Notebooks/db/DataAcomodacion.csv\", encoding=\"latin-1\")"
      ],
      "execution_count": 146,
      "outputs": []
    },
    {
      "cell_type": "code",
      "metadata": {
        "colab": {
          "base_uri": "https://localhost:8080/",
          "height": 419
        },
        "id": "2VQK-wXW_2Ne",
        "outputId": "4b835105-0e76-4fd7-9559-18e317d53bd2"
      },
      "source": [
        "test"
      ],
      "execution_count": 147,
      "outputs": [
        {
          "output_type": "execute_result",
          "data": {
            "text/html": [
              "<div>\n",
              "<style scoped>\n",
              "    .dataframe tbody tr th:only-of-type {\n",
              "        vertical-align: middle;\n",
              "    }\n",
              "\n",
              "    .dataframe tbody tr th {\n",
              "        vertical-align: top;\n",
              "    }\n",
              "\n",
              "    .dataframe thead th {\n",
              "        text-align: right;\n",
              "    }\n",
              "</style>\n",
              "<table border=\"1\" class=\"dataframe\">\n",
              "  <thead>\n",
              "    <tr style=\"text-align: right;\">\n",
              "      <th></th>\n",
              "      <th>id</th>\n",
              "      <th>duracion_estadia</th>\n",
              "      <th>genero</th>\n",
              "      <th>edad</th>\n",
              "      <th>niños</th>\n",
              "      <th>codigo_destino</th>\n",
              "      <th>tipo_acomodacion</th>\n",
              "    </tr>\n",
              "  </thead>\n",
              "  <tbody>\n",
              "    <tr>\n",
              "      <th>0</th>\n",
              "      <td>1013321</td>\n",
              "      <td>2</td>\n",
              "      <td>F</td>\n",
              "      <td>38.0</td>\n",
              "      <td>0.0</td>\n",
              "      <td>US</td>\n",
              "      <td>NaN</td>\n",
              "    </tr>\n",
              "    <tr>\n",
              "      <th>1</th>\n",
              "      <td>1009487</td>\n",
              "      <td>6</td>\n",
              "      <td>M</td>\n",
              "      <td>37.0</td>\n",
              "      <td>0.0</td>\n",
              "      <td>ES</td>\n",
              "      <td>NaN</td>\n",
              "    </tr>\n",
              "    <tr>\n",
              "      <th>2</th>\n",
              "      <td>1002727</td>\n",
              "      <td>1</td>\n",
              "      <td>M</td>\n",
              "      <td>37.0</td>\n",
              "      <td>1.0</td>\n",
              "      <td>ES</td>\n",
              "      <td>NaN</td>\n",
              "    </tr>\n",
              "    <tr>\n",
              "      <th>3</th>\n",
              "      <td>1001135</td>\n",
              "      <td>5</td>\n",
              "      <td>F</td>\n",
              "      <td>50.0</td>\n",
              "      <td>0.0</td>\n",
              "      <td>UK</td>\n",
              "      <td>NaN</td>\n",
              "    </tr>\n",
              "    <tr>\n",
              "      <th>4</th>\n",
              "      <td>1000796</td>\n",
              "      <td>4</td>\n",
              "      <td>F</td>\n",
              "      <td>42.0</td>\n",
              "      <td>1.0</td>\n",
              "      <td>AR</td>\n",
              "      <td>NaN</td>\n",
              "    </tr>\n",
              "    <tr>\n",
              "      <th>...</th>\n",
              "      <td>...</td>\n",
              "      <td>...</td>\n",
              "      <td>...</td>\n",
              "      <td>...</td>\n",
              "      <td>...</td>\n",
              "      <td>...</td>\n",
              "      <td>...</td>\n",
              "    </tr>\n",
              "    <tr>\n",
              "      <th>4224</th>\n",
              "      <td>1007287</td>\n",
              "      <td>3</td>\n",
              "      <td>M</td>\n",
              "      <td>NaN</td>\n",
              "      <td>0.0</td>\n",
              "      <td>ES</td>\n",
              "      <td>NaN</td>\n",
              "    </tr>\n",
              "    <tr>\n",
              "      <th>4225</th>\n",
              "      <td>1009717</td>\n",
              "      <td>4</td>\n",
              "      <td>F</td>\n",
              "      <td>35.0</td>\n",
              "      <td>NaN</td>\n",
              "      <td>NL</td>\n",
              "      <td>NaN</td>\n",
              "    </tr>\n",
              "    <tr>\n",
              "      <th>4226</th>\n",
              "      <td>1012540</td>\n",
              "      <td>7</td>\n",
              "      <td>F</td>\n",
              "      <td>NaN</td>\n",
              "      <td>1.0</td>\n",
              "      <td>PE</td>\n",
              "      <td>NaN</td>\n",
              "    </tr>\n",
              "    <tr>\n",
              "      <th>4227</th>\n",
              "      <td>1000617</td>\n",
              "      <td>4</td>\n",
              "      <td>M</td>\n",
              "      <td>48.0</td>\n",
              "      <td>0.0</td>\n",
              "      <td>UK</td>\n",
              "      <td>NaN</td>\n",
              "    </tr>\n",
              "    <tr>\n",
              "      <th>4228</th>\n",
              "      <td>1007463</td>\n",
              "      <td>2</td>\n",
              "      <td>M</td>\n",
              "      <td>41.0</td>\n",
              "      <td>1.0</td>\n",
              "      <td>UK</td>\n",
              "      <td>NaN</td>\n",
              "    </tr>\n",
              "  </tbody>\n",
              "</table>\n",
              "<p>4229 rows × 7 columns</p>\n",
              "</div>"
            ],
            "text/plain": [
              "           id  duracion_estadia genero  ...  niños  codigo_destino tipo_acomodacion\n",
              "0     1013321                 2      F  ...    0.0              US              NaN\n",
              "1     1009487                 6      M  ...    0.0              ES              NaN\n",
              "2     1002727                 1      M  ...    1.0              ES              NaN\n",
              "3     1001135                 5      F  ...    0.0              UK              NaN\n",
              "4     1000796                 4      F  ...    1.0              AR              NaN\n",
              "...       ...               ...    ...  ...    ...             ...              ...\n",
              "4224  1007287                 3      M  ...    0.0              ES              NaN\n",
              "4225  1009717                 4      F  ...    NaN              NL              NaN\n",
              "4226  1012540                 7      F  ...    1.0              PE              NaN\n",
              "4227  1000617                 4      M  ...    0.0              UK              NaN\n",
              "4228  1007463                 2      M  ...    1.0              UK              NaN\n",
              "\n",
              "[4229 rows x 7 columns]"
            ]
          },
          "metadata": {
            "tags": []
          },
          "execution_count": 147
        }
      ]
    },
    {
      "cell_type": "code",
      "metadata": {
        "colab": {
          "base_uri": "https://localhost:8080/",
          "height": 419
        },
        "id": "1XS-ER6HX63t",
        "outputId": "c433fec5-12da-49c6-d19b-07f940443ff6"
      },
      "source": [
        "test.drop([\"id\", \"tipo_acomodacion\"], axis=1, inplace=True)\n",
        "test"
      ],
      "execution_count": 148,
      "outputs": [
        {
          "output_type": "execute_result",
          "data": {
            "text/html": [
              "<div>\n",
              "<style scoped>\n",
              "    .dataframe tbody tr th:only-of-type {\n",
              "        vertical-align: middle;\n",
              "    }\n",
              "\n",
              "    .dataframe tbody tr th {\n",
              "        vertical-align: top;\n",
              "    }\n",
              "\n",
              "    .dataframe thead th {\n",
              "        text-align: right;\n",
              "    }\n",
              "</style>\n",
              "<table border=\"1\" class=\"dataframe\">\n",
              "  <thead>\n",
              "    <tr style=\"text-align: right;\">\n",
              "      <th></th>\n",
              "      <th>duracion_estadia</th>\n",
              "      <th>genero</th>\n",
              "      <th>edad</th>\n",
              "      <th>niños</th>\n",
              "      <th>codigo_destino</th>\n",
              "    </tr>\n",
              "  </thead>\n",
              "  <tbody>\n",
              "    <tr>\n",
              "      <th>0</th>\n",
              "      <td>2</td>\n",
              "      <td>F</td>\n",
              "      <td>38.0</td>\n",
              "      <td>0.0</td>\n",
              "      <td>US</td>\n",
              "    </tr>\n",
              "    <tr>\n",
              "      <th>1</th>\n",
              "      <td>6</td>\n",
              "      <td>M</td>\n",
              "      <td>37.0</td>\n",
              "      <td>0.0</td>\n",
              "      <td>ES</td>\n",
              "    </tr>\n",
              "    <tr>\n",
              "      <th>2</th>\n",
              "      <td>1</td>\n",
              "      <td>M</td>\n",
              "      <td>37.0</td>\n",
              "      <td>1.0</td>\n",
              "      <td>ES</td>\n",
              "    </tr>\n",
              "    <tr>\n",
              "      <th>3</th>\n",
              "      <td>5</td>\n",
              "      <td>F</td>\n",
              "      <td>50.0</td>\n",
              "      <td>0.0</td>\n",
              "      <td>UK</td>\n",
              "    </tr>\n",
              "    <tr>\n",
              "      <th>4</th>\n",
              "      <td>4</td>\n",
              "      <td>F</td>\n",
              "      <td>42.0</td>\n",
              "      <td>1.0</td>\n",
              "      <td>AR</td>\n",
              "    </tr>\n",
              "    <tr>\n",
              "      <th>...</th>\n",
              "      <td>...</td>\n",
              "      <td>...</td>\n",
              "      <td>...</td>\n",
              "      <td>...</td>\n",
              "      <td>...</td>\n",
              "    </tr>\n",
              "    <tr>\n",
              "      <th>4224</th>\n",
              "      <td>3</td>\n",
              "      <td>M</td>\n",
              "      <td>NaN</td>\n",
              "      <td>0.0</td>\n",
              "      <td>ES</td>\n",
              "    </tr>\n",
              "    <tr>\n",
              "      <th>4225</th>\n",
              "      <td>4</td>\n",
              "      <td>F</td>\n",
              "      <td>35.0</td>\n",
              "      <td>NaN</td>\n",
              "      <td>NL</td>\n",
              "    </tr>\n",
              "    <tr>\n",
              "      <th>4226</th>\n",
              "      <td>7</td>\n",
              "      <td>F</td>\n",
              "      <td>NaN</td>\n",
              "      <td>1.0</td>\n",
              "      <td>PE</td>\n",
              "    </tr>\n",
              "    <tr>\n",
              "      <th>4227</th>\n",
              "      <td>4</td>\n",
              "      <td>M</td>\n",
              "      <td>48.0</td>\n",
              "      <td>0.0</td>\n",
              "      <td>UK</td>\n",
              "    </tr>\n",
              "    <tr>\n",
              "      <th>4228</th>\n",
              "      <td>2</td>\n",
              "      <td>M</td>\n",
              "      <td>41.0</td>\n",
              "      <td>1.0</td>\n",
              "      <td>UK</td>\n",
              "    </tr>\n",
              "  </tbody>\n",
              "</table>\n",
              "<p>4229 rows × 5 columns</p>\n",
              "</div>"
            ],
            "text/plain": [
              "      duracion_estadia genero  edad  niños codigo_destino\n",
              "0                    2      F  38.0    0.0             US\n",
              "1                    6      M  37.0    0.0             ES\n",
              "2                    1      M  37.0    1.0             ES\n",
              "3                    5      F  50.0    0.0             UK\n",
              "4                    4      F  42.0    1.0             AR\n",
              "...                ...    ...   ...    ...            ...\n",
              "4224                 3      M   NaN    0.0             ES\n",
              "4225                 4      F  35.0    NaN             NL\n",
              "4226                 7      F   NaN    1.0             PE\n",
              "4227                 4      M  48.0    0.0             UK\n",
              "4228                 2      M  41.0    1.0             UK\n",
              "\n",
              "[4229 rows x 5 columns]"
            ]
          },
          "metadata": {
            "tags": []
          },
          "execution_count": 148
        }
      ]
    },
    {
      "cell_type": "code",
      "metadata": {
        "colab": {
          "base_uri": "https://localhost:8080/"
        },
        "id": "OivOybFm_WHf",
        "outputId": "53b6006b-dcc7-481e-d113-e47fd8fd30fd"
      },
      "source": [
        "test.isnull().sum()"
      ],
      "execution_count": 149,
      "outputs": [
        {
          "output_type": "execute_result",
          "data": {
            "text/plain": [
              "duracion_estadia      0\n",
              "genero                0\n",
              "edad                415\n",
              "niños               438\n",
              "codigo_destino      413\n",
              "dtype: int64"
            ]
          },
          "metadata": {
            "tags": []
          },
          "execution_count": 149
        }
      ]
    },
    {
      "cell_type": "code",
      "metadata": {
        "colab": {
          "base_uri": "https://localhost:8080/",
          "height": 419
        },
        "id": "w41-x4p2_bsL",
        "outputId": "7a795265-9ba0-42a1-8970-62e9c179ab97"
      },
      "source": [
        "test.dropna(inplace=True)\n",
        "test"
      ],
      "execution_count": 150,
      "outputs": [
        {
          "output_type": "execute_result",
          "data": {
            "text/html": [
              "<div>\n",
              "<style scoped>\n",
              "    .dataframe tbody tr th:only-of-type {\n",
              "        vertical-align: middle;\n",
              "    }\n",
              "\n",
              "    .dataframe tbody tr th {\n",
              "        vertical-align: top;\n",
              "    }\n",
              "\n",
              "    .dataframe thead th {\n",
              "        text-align: right;\n",
              "    }\n",
              "</style>\n",
              "<table border=\"1\" class=\"dataframe\">\n",
              "  <thead>\n",
              "    <tr style=\"text-align: right;\">\n",
              "      <th></th>\n",
              "      <th>duracion_estadia</th>\n",
              "      <th>genero</th>\n",
              "      <th>edad</th>\n",
              "      <th>niños</th>\n",
              "      <th>codigo_destino</th>\n",
              "    </tr>\n",
              "  </thead>\n",
              "  <tbody>\n",
              "    <tr>\n",
              "      <th>0</th>\n",
              "      <td>2</td>\n",
              "      <td>F</td>\n",
              "      <td>38.0</td>\n",
              "      <td>0.0</td>\n",
              "      <td>US</td>\n",
              "    </tr>\n",
              "    <tr>\n",
              "      <th>1</th>\n",
              "      <td>6</td>\n",
              "      <td>M</td>\n",
              "      <td>37.0</td>\n",
              "      <td>0.0</td>\n",
              "      <td>ES</td>\n",
              "    </tr>\n",
              "    <tr>\n",
              "      <th>2</th>\n",
              "      <td>1</td>\n",
              "      <td>M</td>\n",
              "      <td>37.0</td>\n",
              "      <td>1.0</td>\n",
              "      <td>ES</td>\n",
              "    </tr>\n",
              "    <tr>\n",
              "      <th>3</th>\n",
              "      <td>5</td>\n",
              "      <td>F</td>\n",
              "      <td>50.0</td>\n",
              "      <td>0.0</td>\n",
              "      <td>UK</td>\n",
              "    </tr>\n",
              "    <tr>\n",
              "      <th>4</th>\n",
              "      <td>4</td>\n",
              "      <td>F</td>\n",
              "      <td>42.0</td>\n",
              "      <td>1.0</td>\n",
              "      <td>AR</td>\n",
              "    </tr>\n",
              "    <tr>\n",
              "      <th>...</th>\n",
              "      <td>...</td>\n",
              "      <td>...</td>\n",
              "      <td>...</td>\n",
              "      <td>...</td>\n",
              "      <td>...</td>\n",
              "    </tr>\n",
              "    <tr>\n",
              "      <th>4221</th>\n",
              "      <td>5</td>\n",
              "      <td>F</td>\n",
              "      <td>48.0</td>\n",
              "      <td>1.0</td>\n",
              "      <td>PE</td>\n",
              "    </tr>\n",
              "    <tr>\n",
              "      <th>4222</th>\n",
              "      <td>6</td>\n",
              "      <td>M</td>\n",
              "      <td>37.0</td>\n",
              "      <td>0.0</td>\n",
              "      <td>COL</td>\n",
              "    </tr>\n",
              "    <tr>\n",
              "      <th>4223</th>\n",
              "      <td>4</td>\n",
              "      <td>M</td>\n",
              "      <td>42.0</td>\n",
              "      <td>1.0</td>\n",
              "      <td>UK</td>\n",
              "    </tr>\n",
              "    <tr>\n",
              "      <th>4227</th>\n",
              "      <td>4</td>\n",
              "      <td>M</td>\n",
              "      <td>48.0</td>\n",
              "      <td>0.0</td>\n",
              "      <td>UK</td>\n",
              "    </tr>\n",
              "    <tr>\n",
              "      <th>4228</th>\n",
              "      <td>2</td>\n",
              "      <td>M</td>\n",
              "      <td>41.0</td>\n",
              "      <td>1.0</td>\n",
              "      <td>UK</td>\n",
              "    </tr>\n",
              "  </tbody>\n",
              "</table>\n",
              "<p>3079 rows × 5 columns</p>\n",
              "</div>"
            ],
            "text/plain": [
              "      duracion_estadia genero  edad  niños codigo_destino\n",
              "0                    2      F  38.0    0.0             US\n",
              "1                    6      M  37.0    0.0             ES\n",
              "2                    1      M  37.0    1.0             ES\n",
              "3                    5      F  50.0    0.0             UK\n",
              "4                    4      F  42.0    1.0             AR\n",
              "...                ...    ...   ...    ...            ...\n",
              "4221                 5      F  48.0    1.0             PE\n",
              "4222                 6      M  37.0    0.0            COL\n",
              "4223                 4      M  42.0    1.0             UK\n",
              "4227                 4      M  48.0    0.0             UK\n",
              "4228                 2      M  41.0    1.0             UK\n",
              "\n",
              "[3079 rows x 5 columns]"
            ]
          },
          "metadata": {
            "tags": []
          },
          "execution_count": 150
        }
      ]
    },
    {
      "cell_type": "code",
      "metadata": {
        "colab": {
          "base_uri": "https://localhost:8080/",
          "height": 419
        },
        "id": "s9q5SJ_oUrGu",
        "outputId": "bd854ca1-ebc0-4741-9473-112289f7e9ba"
      },
      "source": [
        "x"
      ],
      "execution_count": 151,
      "outputs": [
        {
          "output_type": "execute_result",
          "data": {
            "text/html": [
              "<div>\n",
              "<style scoped>\n",
              "    .dataframe tbody tr th:only-of-type {\n",
              "        vertical-align: middle;\n",
              "    }\n",
              "\n",
              "    .dataframe tbody tr th {\n",
              "        vertical-align: top;\n",
              "    }\n",
              "\n",
              "    .dataframe thead th {\n",
              "        text-align: right;\n",
              "    }\n",
              "</style>\n",
              "<table border=\"1\" class=\"dataframe\">\n",
              "  <thead>\n",
              "    <tr style=\"text-align: right;\">\n",
              "      <th></th>\n",
              "      <th>0</th>\n",
              "      <th>1</th>\n",
              "    </tr>\n",
              "  </thead>\n",
              "  <tbody>\n",
              "    <tr>\n",
              "      <th>0</th>\n",
              "      <td>[REG]</td>\n",
              "      <td>Registro 1</td>\n",
              "    </tr>\n",
              "    <tr>\n",
              "      <th>1</th>\n",
              "      <td>[REG]</td>\n",
              "      <td>1010286</td>\n",
              "    </tr>\n",
              "    <tr>\n",
              "      <th>2</th>\n",
              "      <td>[REG]</td>\n",
              "      <td>7</td>\n",
              "    </tr>\n",
              "    <tr>\n",
              "      <th>3</th>\n",
              "      <td>[REG]</td>\n",
              "      <td>F</td>\n",
              "    </tr>\n",
              "    <tr>\n",
              "      <th>4</th>\n",
              "      <td>[REG]</td>\n",
              "      <td>40</td>\n",
              "    </tr>\n",
              "    <tr>\n",
              "      <th>...</th>\n",
              "      <td>...</td>\n",
              "      <td>...</td>\n",
              "    </tr>\n",
              "    <tr>\n",
              "      <th>78939</th>\n",
              "      <td>[REG]</td>\n",
              "      <td>F</td>\n",
              "    </tr>\n",
              "    <tr>\n",
              "      <th>78940</th>\n",
              "      <td>[REG]</td>\n",
              "      <td>49</td>\n",
              "    </tr>\n",
              "    <tr>\n",
              "      <th>78941</th>\n",
              "      <td>[REG]</td>\n",
              "      <td>1</td>\n",
              "    </tr>\n",
              "    <tr>\n",
              "      <th>78942</th>\n",
              "      <td>[REG]</td>\n",
              "      <td>IT</td>\n",
              "    </tr>\n",
              "    <tr>\n",
              "      <th>78943</th>\n",
              "      <td>[REG]</td>\n",
              "      <td>AirBnB</td>\n",
              "    </tr>\n",
              "  </tbody>\n",
              "</table>\n",
              "<p>78944 rows × 2 columns</p>\n",
              "</div>"
            ],
            "text/plain": [
              "           0           1\n",
              "0      [REG]  Registro 1\n",
              "1      [REG]     1010286\n",
              "2      [REG]           7\n",
              "3      [REG]           F\n",
              "4      [REG]          40\n",
              "...      ...         ...\n",
              "78939  [REG]           F\n",
              "78940  [REG]          49\n",
              "78941  [REG]           1\n",
              "78942  [REG]          IT\n",
              "78943  [REG]      AirBnB\n",
              "\n",
              "[78944 rows x 2 columns]"
            ]
          },
          "metadata": {
            "tags": []
          },
          "execution_count": 151
        }
      ]
    },
    {
      "cell_type": "markdown",
      "metadata": {
        "id": "V2by1NcTF1pL"
      },
      "source": [
        "# Data Engineering"
      ]
    },
    {
      "cell_type": "markdown",
      "metadata": {
        "id": "z60AEfK7gXvR"
      },
      "source": [
        "[EN]\n",
        "\n",
        "The first problem we face is that our training data was given as a .txt format. After transforming into a dataframe, we have two columns. Only one is valuable and is given in a single column. Our objective here will be to turn this on a workable dataframe, with the appropiate datatype.\n",
        "\n",
        "[ES]\n",
        "\n",
        "El primer problema al que nos enfrentamos es que nuestros datos de entrenamientos estan dados en un formato .txt. Después de transformarlo en un dataframe, tenemos dos columnas. Solo una es de valor y está dada en una sola columna. Nuestro objetivo aquí es convertirla en un dataframe con elq ue se pueda trabajar, con el tipo de datos apropiado."
      ]
    },
    {
      "cell_type": "code",
      "metadata": {
        "colab": {
          "base_uri": "https://localhost:8080/",
          "height": 419
        },
        "id": "rBrJyHtPeXd6",
        "outputId": "8a05ec5c-9a20-457a-8f09-f370482e1d28"
      },
      "source": [
        "x.drop(x.columns[0], axis=1, inplace=True)\n",
        "x"
      ],
      "execution_count": 152,
      "outputs": [
        {
          "output_type": "execute_result",
          "data": {
            "text/html": [
              "<div>\n",
              "<style scoped>\n",
              "    .dataframe tbody tr th:only-of-type {\n",
              "        vertical-align: middle;\n",
              "    }\n",
              "\n",
              "    .dataframe tbody tr th {\n",
              "        vertical-align: top;\n",
              "    }\n",
              "\n",
              "    .dataframe thead th {\n",
              "        text-align: right;\n",
              "    }\n",
              "</style>\n",
              "<table border=\"1\" class=\"dataframe\">\n",
              "  <thead>\n",
              "    <tr style=\"text-align: right;\">\n",
              "      <th></th>\n",
              "      <th>1</th>\n",
              "    </tr>\n",
              "  </thead>\n",
              "  <tbody>\n",
              "    <tr>\n",
              "      <th>0</th>\n",
              "      <td>Registro 1</td>\n",
              "    </tr>\n",
              "    <tr>\n",
              "      <th>1</th>\n",
              "      <td>1010286</td>\n",
              "    </tr>\n",
              "    <tr>\n",
              "      <th>2</th>\n",
              "      <td>7</td>\n",
              "    </tr>\n",
              "    <tr>\n",
              "      <th>3</th>\n",
              "      <td>F</td>\n",
              "    </tr>\n",
              "    <tr>\n",
              "      <th>4</th>\n",
              "      <td>40</td>\n",
              "    </tr>\n",
              "    <tr>\n",
              "      <th>...</th>\n",
              "      <td>...</td>\n",
              "    </tr>\n",
              "    <tr>\n",
              "      <th>78939</th>\n",
              "      <td>F</td>\n",
              "    </tr>\n",
              "    <tr>\n",
              "      <th>78940</th>\n",
              "      <td>49</td>\n",
              "    </tr>\n",
              "    <tr>\n",
              "      <th>78941</th>\n",
              "      <td>1</td>\n",
              "    </tr>\n",
              "    <tr>\n",
              "      <th>78942</th>\n",
              "      <td>IT</td>\n",
              "    </tr>\n",
              "    <tr>\n",
              "      <th>78943</th>\n",
              "      <td>AirBnB</td>\n",
              "    </tr>\n",
              "  </tbody>\n",
              "</table>\n",
              "<p>78944 rows × 1 columns</p>\n",
              "</div>"
            ],
            "text/plain": [
              "                1\n",
              "0      Registro 1\n",
              "1         1010286\n",
              "2               7\n",
              "3               F\n",
              "4              40\n",
              "...           ...\n",
              "78939           F\n",
              "78940          49\n",
              "78941           1\n",
              "78942          IT\n",
              "78943      AirBnB\n",
              "\n",
              "[78944 rows x 1 columns]"
            ]
          },
          "metadata": {
            "tags": []
          },
          "execution_count": 152
        }
      ]
    },
    {
      "cell_type": "markdown",
      "metadata": {
        "id": "2mFlCLJqhVbm"
      },
      "source": [
        "[EN]\n",
        "\n",
        "With the following code, we divide the column each time it detects the string 'Registro'. This turns into an array. In the second line, we concat all the string to form the dataframe. We finish transposing the dataframe in order to have the proper columns and rows.\n",
        "\n",
        "[ES]\n",
        "\n",
        "Con el siguiente código, estamos dividiendo la columna cada vez que detecte el string 'Registro'. Este se convierte en un arreglo. En la segunda línea estamos concatenando todos los strings para formar el dataframe. Terminamos transponiendo el dataframe para tener las columnas y filas adecuadas. "
      ]
    },
    {
      "cell_type": "code",
      "metadata": {
        "colab": {
          "base_uri": "https://localhost:8080/",
          "height": 419
        },
        "id": "5q-PfEooZERH",
        "outputId": "b1f5f686-f958-497e-8229-97ff224ab1b4"
      },
      "source": [
        "arrCollection = x[1].str.extract('(Registro.*)').ffill()[0].to_numpy()\n",
        "df = x.set_index([x.groupby(arrCollection)[1].cumcount()-1,\n",
        "                     arrCollection])[1].unstack().iloc[1:,:]\n",
        "\n",
        "train = df.T\n",
        "train"
      ],
      "execution_count": 153,
      "outputs": [
        {
          "output_type": "execute_result",
          "data": {
            "text/html": [
              "<div>\n",
              "<style scoped>\n",
              "    .dataframe tbody tr th:only-of-type {\n",
              "        vertical-align: middle;\n",
              "    }\n",
              "\n",
              "    .dataframe tbody tr th {\n",
              "        vertical-align: top;\n",
              "    }\n",
              "\n",
              "    .dataframe thead th {\n",
              "        text-align: right;\n",
              "    }\n",
              "</style>\n",
              "<table border=\"1\" class=\"dataframe\">\n",
              "  <thead>\n",
              "    <tr style=\"text-align: right;\">\n",
              "      <th></th>\n",
              "      <th>0</th>\n",
              "      <th>1</th>\n",
              "      <th>2</th>\n",
              "      <th>3</th>\n",
              "      <th>4</th>\n",
              "      <th>5</th>\n",
              "      <th>6</th>\n",
              "    </tr>\n",
              "  </thead>\n",
              "  <tbody>\n",
              "    <tr>\n",
              "      <th>Registro 1</th>\n",
              "      <td>1010286</td>\n",
              "      <td>7</td>\n",
              "      <td>F</td>\n",
              "      <td>40</td>\n",
              "      <td>0</td>\n",
              "      <td>COL</td>\n",
              "      <td>AirBnB</td>\n",
              "    </tr>\n",
              "    <tr>\n",
              "      <th>Registro 10</th>\n",
              "      <td>1006149</td>\n",
              "      <td>5</td>\n",
              "      <td>F</td>\n",
              "      <td>31</td>\n",
              "      <td>NaN</td>\n",
              "      <td>AR</td>\n",
              "      <td>AirBnB</td>\n",
              "    </tr>\n",
              "    <tr>\n",
              "      <th>Registro 100</th>\n",
              "      <td>1007317</td>\n",
              "      <td>5</td>\n",
              "      <td>M</td>\n",
              "      <td>42</td>\n",
              "      <td>0</td>\n",
              "      <td>PE</td>\n",
              "      <td>AirBnB</td>\n",
              "    </tr>\n",
              "    <tr>\n",
              "      <th>Registro 1000</th>\n",
              "      <td>1007185</td>\n",
              "      <td>6</td>\n",
              "      <td>M</td>\n",
              "      <td>46</td>\n",
              "      <td>1</td>\n",
              "      <td>IT</td>\n",
              "      <td>Hotel</td>\n",
              "    </tr>\n",
              "    <tr>\n",
              "      <th>Registro 1001</th>\n",
              "      <td>1002065</td>\n",
              "      <td>4</td>\n",
              "      <td>F</td>\n",
              "      <td>43</td>\n",
              "      <td>0</td>\n",
              "      <td>COL</td>\n",
              "      <td>AirBnB</td>\n",
              "    </tr>\n",
              "    <tr>\n",
              "      <th>...</th>\n",
              "      <td>...</td>\n",
              "      <td>...</td>\n",
              "      <td>...</td>\n",
              "      <td>...</td>\n",
              "      <td>...</td>\n",
              "      <td>...</td>\n",
              "      <td>...</td>\n",
              "    </tr>\n",
              "    <tr>\n",
              "      <th>Registro 995</th>\n",
              "      <td>1011356</td>\n",
              "      <td>4</td>\n",
              "      <td>F</td>\n",
              "      <td>33</td>\n",
              "      <td>1</td>\n",
              "      <td>AR</td>\n",
              "      <td>Hotel</td>\n",
              "    </tr>\n",
              "    <tr>\n",
              "      <th>Registro 996</th>\n",
              "      <td>1008195</td>\n",
              "      <td>4</td>\n",
              "      <td>F</td>\n",
              "      <td>37</td>\n",
              "      <td>1</td>\n",
              "      <td>ES</td>\n",
              "      <td>Hotel</td>\n",
              "    </tr>\n",
              "    <tr>\n",
              "      <th>Registro 997</th>\n",
              "      <td>1005338</td>\n",
              "      <td>6</td>\n",
              "      <td>M</td>\n",
              "      <td>38</td>\n",
              "      <td>0</td>\n",
              "      <td>AR</td>\n",
              "      <td>Hotel</td>\n",
              "    </tr>\n",
              "    <tr>\n",
              "      <th>Registro 998</th>\n",
              "      <td>1014092</td>\n",
              "      <td>7</td>\n",
              "      <td>M</td>\n",
              "      <td>42</td>\n",
              "      <td>1</td>\n",
              "      <td>AR</td>\n",
              "      <td>Hotel</td>\n",
              "    </tr>\n",
              "    <tr>\n",
              "      <th>Registro 999</th>\n",
              "      <td>1013537</td>\n",
              "      <td>5</td>\n",
              "      <td>F</td>\n",
              "      <td>43</td>\n",
              "      <td>0</td>\n",
              "      <td>US</td>\n",
              "      <td>Hotel</td>\n",
              "    </tr>\n",
              "  </tbody>\n",
              "</table>\n",
              "<p>9868 rows × 7 columns</p>\n",
              "</div>"
            ],
            "text/plain": [
              "                     0  1  2   3    4    5       6\n",
              "Registro 1     1010286  7  F  40    0  COL  AirBnB\n",
              "Registro 10    1006149  5  F  31  NaN   AR  AirBnB\n",
              "Registro 100   1007317  5  M  42    0   PE  AirBnB\n",
              "Registro 1000  1007185  6  M  46    1   IT   Hotel\n",
              "Registro 1001  1002065  4  F  43    0  COL  AirBnB\n",
              "...                ... .. ..  ..  ...  ...     ...\n",
              "Registro 995   1011356  4  F  33    1   AR   Hotel\n",
              "Registro 996   1008195  4  F  37    1   ES   Hotel\n",
              "Registro 997   1005338  6  M  38    0   AR   Hotel\n",
              "Registro 998   1014092  7  M  42    1   AR   Hotel\n",
              "Registro 999   1013537  5  F  43    0   US   Hotel\n",
              "\n",
              "[9868 rows x 7 columns]"
            ]
          },
          "metadata": {
            "tags": []
          },
          "execution_count": 153
        }
      ]
    },
    {
      "cell_type": "code",
      "metadata": {
        "colab": {
          "base_uri": "https://localhost:8080/",
          "height": 419
        },
        "id": "c1OXzBj1a2if",
        "outputId": "67ee4b25-1bb6-4512-803d-a847968c2356"
      },
      "source": [
        "train.drop(train.columns[0], axis=1, inplace=True)\n",
        "train"
      ],
      "execution_count": 154,
      "outputs": [
        {
          "output_type": "execute_result",
          "data": {
            "text/html": [
              "<div>\n",
              "<style scoped>\n",
              "    .dataframe tbody tr th:only-of-type {\n",
              "        vertical-align: middle;\n",
              "    }\n",
              "\n",
              "    .dataframe tbody tr th {\n",
              "        vertical-align: top;\n",
              "    }\n",
              "\n",
              "    .dataframe thead th {\n",
              "        text-align: right;\n",
              "    }\n",
              "</style>\n",
              "<table border=\"1\" class=\"dataframe\">\n",
              "  <thead>\n",
              "    <tr style=\"text-align: right;\">\n",
              "      <th></th>\n",
              "      <th>1</th>\n",
              "      <th>2</th>\n",
              "      <th>3</th>\n",
              "      <th>4</th>\n",
              "      <th>5</th>\n",
              "      <th>6</th>\n",
              "    </tr>\n",
              "  </thead>\n",
              "  <tbody>\n",
              "    <tr>\n",
              "      <th>Registro 1</th>\n",
              "      <td>7</td>\n",
              "      <td>F</td>\n",
              "      <td>40</td>\n",
              "      <td>0</td>\n",
              "      <td>COL</td>\n",
              "      <td>AirBnB</td>\n",
              "    </tr>\n",
              "    <tr>\n",
              "      <th>Registro 10</th>\n",
              "      <td>5</td>\n",
              "      <td>F</td>\n",
              "      <td>31</td>\n",
              "      <td>NaN</td>\n",
              "      <td>AR</td>\n",
              "      <td>AirBnB</td>\n",
              "    </tr>\n",
              "    <tr>\n",
              "      <th>Registro 100</th>\n",
              "      <td>5</td>\n",
              "      <td>M</td>\n",
              "      <td>42</td>\n",
              "      <td>0</td>\n",
              "      <td>PE</td>\n",
              "      <td>AirBnB</td>\n",
              "    </tr>\n",
              "    <tr>\n",
              "      <th>Registro 1000</th>\n",
              "      <td>6</td>\n",
              "      <td>M</td>\n",
              "      <td>46</td>\n",
              "      <td>1</td>\n",
              "      <td>IT</td>\n",
              "      <td>Hotel</td>\n",
              "    </tr>\n",
              "    <tr>\n",
              "      <th>Registro 1001</th>\n",
              "      <td>4</td>\n",
              "      <td>F</td>\n",
              "      <td>43</td>\n",
              "      <td>0</td>\n",
              "      <td>COL</td>\n",
              "      <td>AirBnB</td>\n",
              "    </tr>\n",
              "    <tr>\n",
              "      <th>...</th>\n",
              "      <td>...</td>\n",
              "      <td>...</td>\n",
              "      <td>...</td>\n",
              "      <td>...</td>\n",
              "      <td>...</td>\n",
              "      <td>...</td>\n",
              "    </tr>\n",
              "    <tr>\n",
              "      <th>Registro 995</th>\n",
              "      <td>4</td>\n",
              "      <td>F</td>\n",
              "      <td>33</td>\n",
              "      <td>1</td>\n",
              "      <td>AR</td>\n",
              "      <td>Hotel</td>\n",
              "    </tr>\n",
              "    <tr>\n",
              "      <th>Registro 996</th>\n",
              "      <td>4</td>\n",
              "      <td>F</td>\n",
              "      <td>37</td>\n",
              "      <td>1</td>\n",
              "      <td>ES</td>\n",
              "      <td>Hotel</td>\n",
              "    </tr>\n",
              "    <tr>\n",
              "      <th>Registro 997</th>\n",
              "      <td>6</td>\n",
              "      <td>M</td>\n",
              "      <td>38</td>\n",
              "      <td>0</td>\n",
              "      <td>AR</td>\n",
              "      <td>Hotel</td>\n",
              "    </tr>\n",
              "    <tr>\n",
              "      <th>Registro 998</th>\n",
              "      <td>7</td>\n",
              "      <td>M</td>\n",
              "      <td>42</td>\n",
              "      <td>1</td>\n",
              "      <td>AR</td>\n",
              "      <td>Hotel</td>\n",
              "    </tr>\n",
              "    <tr>\n",
              "      <th>Registro 999</th>\n",
              "      <td>5</td>\n",
              "      <td>F</td>\n",
              "      <td>43</td>\n",
              "      <td>0</td>\n",
              "      <td>US</td>\n",
              "      <td>Hotel</td>\n",
              "    </tr>\n",
              "  </tbody>\n",
              "</table>\n",
              "<p>9868 rows × 6 columns</p>\n",
              "</div>"
            ],
            "text/plain": [
              "               1  2   3    4    5       6\n",
              "Registro 1     7  F  40    0  COL  AirBnB\n",
              "Registro 10    5  F  31  NaN   AR  AirBnB\n",
              "Registro 100   5  M  42    0   PE  AirBnB\n",
              "Registro 1000  6  M  46    1   IT   Hotel\n",
              "Registro 1001  4  F  43    0  COL  AirBnB\n",
              "...           .. ..  ..  ...  ...     ...\n",
              "Registro 995   4  F  33    1   AR   Hotel\n",
              "Registro 996   4  F  37    1   ES   Hotel\n",
              "Registro 997   6  M  38    0   AR   Hotel\n",
              "Registro 998   7  M  42    1   AR   Hotel\n",
              "Registro 999   5  F  43    0   US   Hotel\n",
              "\n",
              "[9868 rows x 6 columns]"
            ]
          },
          "metadata": {
            "tags": []
          },
          "execution_count": 154
        }
      ]
    },
    {
      "cell_type": "code",
      "metadata": {
        "colab": {
          "base_uri": "https://localhost:8080/",
          "height": 419
        },
        "id": "juQ0FeshbY9Y",
        "outputId": "0cf7ce04-6427-4675-858f-9688a8535444"
      },
      "source": [
        "train = train.rename(columns={1: \"duracion_estadia\", 2: \"genero\", 3: \"edad\", 4: \"niños\", 5: \"codigo_destino\", 6: \"tipo_acomodacion\"})\n",
        "train"
      ],
      "execution_count": 155,
      "outputs": [
        {
          "output_type": "execute_result",
          "data": {
            "text/html": [
              "<div>\n",
              "<style scoped>\n",
              "    .dataframe tbody tr th:only-of-type {\n",
              "        vertical-align: middle;\n",
              "    }\n",
              "\n",
              "    .dataframe tbody tr th {\n",
              "        vertical-align: top;\n",
              "    }\n",
              "\n",
              "    .dataframe thead th {\n",
              "        text-align: right;\n",
              "    }\n",
              "</style>\n",
              "<table border=\"1\" class=\"dataframe\">\n",
              "  <thead>\n",
              "    <tr style=\"text-align: right;\">\n",
              "      <th></th>\n",
              "      <th>duracion_estadia</th>\n",
              "      <th>genero</th>\n",
              "      <th>edad</th>\n",
              "      <th>niños</th>\n",
              "      <th>codigo_destino</th>\n",
              "      <th>tipo_acomodacion</th>\n",
              "    </tr>\n",
              "  </thead>\n",
              "  <tbody>\n",
              "    <tr>\n",
              "      <th>Registro 1</th>\n",
              "      <td>7</td>\n",
              "      <td>F</td>\n",
              "      <td>40</td>\n",
              "      <td>0</td>\n",
              "      <td>COL</td>\n",
              "      <td>AirBnB</td>\n",
              "    </tr>\n",
              "    <tr>\n",
              "      <th>Registro 10</th>\n",
              "      <td>5</td>\n",
              "      <td>F</td>\n",
              "      <td>31</td>\n",
              "      <td>NaN</td>\n",
              "      <td>AR</td>\n",
              "      <td>AirBnB</td>\n",
              "    </tr>\n",
              "    <tr>\n",
              "      <th>Registro 100</th>\n",
              "      <td>5</td>\n",
              "      <td>M</td>\n",
              "      <td>42</td>\n",
              "      <td>0</td>\n",
              "      <td>PE</td>\n",
              "      <td>AirBnB</td>\n",
              "    </tr>\n",
              "    <tr>\n",
              "      <th>Registro 1000</th>\n",
              "      <td>6</td>\n",
              "      <td>M</td>\n",
              "      <td>46</td>\n",
              "      <td>1</td>\n",
              "      <td>IT</td>\n",
              "      <td>Hotel</td>\n",
              "    </tr>\n",
              "    <tr>\n",
              "      <th>Registro 1001</th>\n",
              "      <td>4</td>\n",
              "      <td>F</td>\n",
              "      <td>43</td>\n",
              "      <td>0</td>\n",
              "      <td>COL</td>\n",
              "      <td>AirBnB</td>\n",
              "    </tr>\n",
              "    <tr>\n",
              "      <th>...</th>\n",
              "      <td>...</td>\n",
              "      <td>...</td>\n",
              "      <td>...</td>\n",
              "      <td>...</td>\n",
              "      <td>...</td>\n",
              "      <td>...</td>\n",
              "    </tr>\n",
              "    <tr>\n",
              "      <th>Registro 995</th>\n",
              "      <td>4</td>\n",
              "      <td>F</td>\n",
              "      <td>33</td>\n",
              "      <td>1</td>\n",
              "      <td>AR</td>\n",
              "      <td>Hotel</td>\n",
              "    </tr>\n",
              "    <tr>\n",
              "      <th>Registro 996</th>\n",
              "      <td>4</td>\n",
              "      <td>F</td>\n",
              "      <td>37</td>\n",
              "      <td>1</td>\n",
              "      <td>ES</td>\n",
              "      <td>Hotel</td>\n",
              "    </tr>\n",
              "    <tr>\n",
              "      <th>Registro 997</th>\n",
              "      <td>6</td>\n",
              "      <td>M</td>\n",
              "      <td>38</td>\n",
              "      <td>0</td>\n",
              "      <td>AR</td>\n",
              "      <td>Hotel</td>\n",
              "    </tr>\n",
              "    <tr>\n",
              "      <th>Registro 998</th>\n",
              "      <td>7</td>\n",
              "      <td>M</td>\n",
              "      <td>42</td>\n",
              "      <td>1</td>\n",
              "      <td>AR</td>\n",
              "      <td>Hotel</td>\n",
              "    </tr>\n",
              "    <tr>\n",
              "      <th>Registro 999</th>\n",
              "      <td>5</td>\n",
              "      <td>F</td>\n",
              "      <td>43</td>\n",
              "      <td>0</td>\n",
              "      <td>US</td>\n",
              "      <td>Hotel</td>\n",
              "    </tr>\n",
              "  </tbody>\n",
              "</table>\n",
              "<p>9868 rows × 6 columns</p>\n",
              "</div>"
            ],
            "text/plain": [
              "              duracion_estadia genero  ... codigo_destino tipo_acomodacion\n",
              "Registro 1                   7      F  ...            COL           AirBnB\n",
              "Registro 10                  5      F  ...             AR           AirBnB\n",
              "Registro 100                 5      M  ...             PE           AirBnB\n",
              "Registro 1000                6      M  ...             IT            Hotel\n",
              "Registro 1001                4      F  ...            COL           AirBnB\n",
              "...                        ...    ...  ...            ...              ...\n",
              "Registro 995                 4      F  ...             AR            Hotel\n",
              "Registro 996                 4      F  ...             ES            Hotel\n",
              "Registro 997                 6      M  ...             AR            Hotel\n",
              "Registro 998                 7      M  ...             AR            Hotel\n",
              "Registro 999                 5      F  ...             US            Hotel\n",
              "\n",
              "[9868 rows x 6 columns]"
            ]
          },
          "metadata": {
            "tags": []
          },
          "execution_count": 155
        }
      ]
    },
    {
      "cell_type": "code",
      "metadata": {
        "colab": {
          "base_uri": "https://localhost:8080/"
        },
        "id": "EaebpwwQcCSO",
        "outputId": "3eb2ff7f-8ca5-4cb8-8293-8891502497af"
      },
      "source": [
        "train.isnull().sum()"
      ],
      "execution_count": 156,
      "outputs": [
        {
          "output_type": "execute_result",
          "data": {
            "text/plain": [
              "duracion_estadia      0\n",
              "genero                0\n",
              "edad                994\n",
              "niños               971\n",
              "codigo_destino      996\n",
              "tipo_acomodacion      0\n",
              "dtype: int64"
            ]
          },
          "metadata": {
            "tags": []
          },
          "execution_count": 156
        }
      ]
    },
    {
      "cell_type": "code",
      "metadata": {
        "colab": {
          "base_uri": "https://localhost:8080/",
          "height": 419
        },
        "id": "J66dab07dId7",
        "outputId": "f218cf2a-b7e1-4b8b-b944-6e537c2d20d6"
      },
      "source": [
        "train.dropna(inplace=True)\n",
        "train.reset_index(drop=True, inplace=True) \n",
        "train"
      ],
      "execution_count": 157,
      "outputs": [
        {
          "output_type": "execute_result",
          "data": {
            "text/html": [
              "<div>\n",
              "<style scoped>\n",
              "    .dataframe tbody tr th:only-of-type {\n",
              "        vertical-align: middle;\n",
              "    }\n",
              "\n",
              "    .dataframe tbody tr th {\n",
              "        vertical-align: top;\n",
              "    }\n",
              "\n",
              "    .dataframe thead th {\n",
              "        text-align: right;\n",
              "    }\n",
              "</style>\n",
              "<table border=\"1\" class=\"dataframe\">\n",
              "  <thead>\n",
              "    <tr style=\"text-align: right;\">\n",
              "      <th></th>\n",
              "      <th>duracion_estadia</th>\n",
              "      <th>genero</th>\n",
              "      <th>edad</th>\n",
              "      <th>niños</th>\n",
              "      <th>codigo_destino</th>\n",
              "      <th>tipo_acomodacion</th>\n",
              "    </tr>\n",
              "  </thead>\n",
              "  <tbody>\n",
              "    <tr>\n",
              "      <th>0</th>\n",
              "      <td>7</td>\n",
              "      <td>F</td>\n",
              "      <td>40</td>\n",
              "      <td>0</td>\n",
              "      <td>COL</td>\n",
              "      <td>AirBnB</td>\n",
              "    </tr>\n",
              "    <tr>\n",
              "      <th>1</th>\n",
              "      <td>5</td>\n",
              "      <td>M</td>\n",
              "      <td>42</td>\n",
              "      <td>0</td>\n",
              "      <td>PE</td>\n",
              "      <td>AirBnB</td>\n",
              "    </tr>\n",
              "    <tr>\n",
              "      <th>2</th>\n",
              "      <td>6</td>\n",
              "      <td>M</td>\n",
              "      <td>46</td>\n",
              "      <td>1</td>\n",
              "      <td>IT</td>\n",
              "      <td>Hotel</td>\n",
              "    </tr>\n",
              "    <tr>\n",
              "      <th>3</th>\n",
              "      <td>4</td>\n",
              "      <td>F</td>\n",
              "      <td>43</td>\n",
              "      <td>0</td>\n",
              "      <td>COL</td>\n",
              "      <td>AirBnB</td>\n",
              "    </tr>\n",
              "    <tr>\n",
              "      <th>4</th>\n",
              "      <td>5</td>\n",
              "      <td>M</td>\n",
              "      <td>30</td>\n",
              "      <td>1</td>\n",
              "      <td>PE</td>\n",
              "      <td>AirBnB</td>\n",
              "    </tr>\n",
              "    <tr>\n",
              "      <th>...</th>\n",
              "      <td>...</td>\n",
              "      <td>...</td>\n",
              "      <td>...</td>\n",
              "      <td>...</td>\n",
              "      <td>...</td>\n",
              "      <td>...</td>\n",
              "    </tr>\n",
              "    <tr>\n",
              "      <th>7197</th>\n",
              "      <td>4</td>\n",
              "      <td>F</td>\n",
              "      <td>33</td>\n",
              "      <td>1</td>\n",
              "      <td>AR</td>\n",
              "      <td>Hotel</td>\n",
              "    </tr>\n",
              "    <tr>\n",
              "      <th>7198</th>\n",
              "      <td>4</td>\n",
              "      <td>F</td>\n",
              "      <td>37</td>\n",
              "      <td>1</td>\n",
              "      <td>ES</td>\n",
              "      <td>Hotel</td>\n",
              "    </tr>\n",
              "    <tr>\n",
              "      <th>7199</th>\n",
              "      <td>6</td>\n",
              "      <td>M</td>\n",
              "      <td>38</td>\n",
              "      <td>0</td>\n",
              "      <td>AR</td>\n",
              "      <td>Hotel</td>\n",
              "    </tr>\n",
              "    <tr>\n",
              "      <th>7200</th>\n",
              "      <td>7</td>\n",
              "      <td>M</td>\n",
              "      <td>42</td>\n",
              "      <td>1</td>\n",
              "      <td>AR</td>\n",
              "      <td>Hotel</td>\n",
              "    </tr>\n",
              "    <tr>\n",
              "      <th>7201</th>\n",
              "      <td>5</td>\n",
              "      <td>F</td>\n",
              "      <td>43</td>\n",
              "      <td>0</td>\n",
              "      <td>US</td>\n",
              "      <td>Hotel</td>\n",
              "    </tr>\n",
              "  </tbody>\n",
              "</table>\n",
              "<p>7202 rows × 6 columns</p>\n",
              "</div>"
            ],
            "text/plain": [
              "     duracion_estadia genero edad niños codigo_destino tipo_acomodacion\n",
              "0                   7      F   40     0            COL           AirBnB\n",
              "1                   5      M   42     0             PE           AirBnB\n",
              "2                   6      M   46     1             IT            Hotel\n",
              "3                   4      F   43     0            COL           AirBnB\n",
              "4                   5      M   30     1             PE           AirBnB\n",
              "...               ...    ...  ...   ...            ...              ...\n",
              "7197                4      F   33     1             AR            Hotel\n",
              "7198                4      F   37     1             ES            Hotel\n",
              "7199                6      M   38     0             AR            Hotel\n",
              "7200                7      M   42     1             AR            Hotel\n",
              "7201                5      F   43     0             US            Hotel\n",
              "\n",
              "[7202 rows x 6 columns]"
            ]
          },
          "metadata": {
            "tags": []
          },
          "execution_count": 157
        }
      ]
    },
    {
      "cell_type": "markdown",
      "metadata": {
        "id": "NF1ax1PriXF1"
      },
      "source": [
        "[EN]\n",
        "\n",
        "All data is given as an object type. We need to turn some of them into integers for the EDA process and training our model. \n",
        "\n",
        "[ES]\n",
        "\n",
        "Toda nuestra data esta dada como un tipo objeto. Debemos convertirla en número enteros para el análisis exploratorio de datos y entrenar nuestro modelo."
      ]
    },
    {
      "cell_type": "code",
      "metadata": {
        "colab": {
          "base_uri": "https://localhost:8080/"
        },
        "id": "qVzvYIKz3ziX",
        "outputId": "131b6f31-5442-49ac-fa79-cb9261c9874b"
      },
      "source": [
        "train.dtypes"
      ],
      "execution_count": 158,
      "outputs": [
        {
          "output_type": "execute_result",
          "data": {
            "text/plain": [
              "duracion_estadia    object\n",
              "genero              object\n",
              "edad                object\n",
              "niños               object\n",
              "codigo_destino      object\n",
              "tipo_acomodacion    object\n",
              "dtype: object"
            ]
          },
          "metadata": {
            "tags": []
          },
          "execution_count": 158
        }
      ]
    },
    {
      "cell_type": "code",
      "metadata": {
        "id": "na-aqFef40S-"
      },
      "source": [
        "train['duracion_estadia'] = train.duracion_estadia.astype(int)\n",
        "train['niños'] = train.niños.astype(int)\n",
        "train['edad'] = train.edad.astype(int)"
      ],
      "execution_count": 159,
      "outputs": []
    },
    {
      "cell_type": "code",
      "metadata": {
        "colab": {
          "base_uri": "https://localhost:8080/"
        },
        "id": "5nF4wMMW5Sfs",
        "outputId": "55ff8747-f073-437a-d396-7ba7c5b71253"
      },
      "source": [
        "train.dtypes"
      ],
      "execution_count": 160,
      "outputs": [
        {
          "output_type": "execute_result",
          "data": {
            "text/plain": [
              "duracion_estadia     int64\n",
              "genero              object\n",
              "edad                 int64\n",
              "niños                int64\n",
              "codigo_destino      object\n",
              "tipo_acomodacion    object\n",
              "dtype: object"
            ]
          },
          "metadata": {
            "tags": []
          },
          "execution_count": 160
        }
      ]
    },
    {
      "cell_type": "markdown",
      "metadata": {
        "id": "gi6nzIj3dhE2"
      },
      "source": [
        "# Exploratory Data Analysis"
      ]
    },
    {
      "cell_type": "markdown",
      "metadata": {
        "id": "Evs5Awg0kPsM"
      },
      "source": [
        "[EN]\n",
        "\n",
        "The first step will be to make an descriptive analysis of all guests. \n",
        "\n",
        "Note: The children feature has boolean entries. \n",
        "\n",
        "[ES]\n",
        "\n",
        "El primer paso será hacer un análisis descriptivo de todos nuestros huéspedes. \n",
        "\n",
        "Nota: El feature \"niños\" tiene entradas booleanas."
      ]
    },
    {
      "cell_type": "code",
      "metadata": {
        "colab": {
          "base_uri": "https://localhost:8080/"
        },
        "id": "xtW8ycVH5LpY",
        "outputId": "d3ff59e0-eb1c-4f21-dc92-0a030f2be33a"
      },
      "source": [
        "train.duracion_estadia.describe()"
      ],
      "execution_count": null,
      "outputs": [
        {
          "output_type": "execute_result",
          "data": {
            "text/plain": [
              "count    7202.000000\n",
              "mean        3.986948\n",
              "std         1.728832\n",
              "min         1.000000\n",
              "25%         3.000000\n",
              "50%         4.000000\n",
              "75%         5.000000\n",
              "max        12.000000\n",
              "Name: duracion_estadia, dtype: float64"
            ]
          },
          "metadata": {
            "tags": []
          },
          "execution_count": 21
        }
      ]
    },
    {
      "cell_type": "code",
      "metadata": {
        "colab": {
          "base_uri": "https://localhost:8080/",
          "height": 571
        },
        "id": "VIzOKzvHeTnM",
        "outputId": "79a5ab5e-7954-494b-a28b-1ec3fa2f2333"
      },
      "source": [
        "sns.distplot(train[\"duracion_estadia\"])"
      ],
      "execution_count": null,
      "outputs": [
        {
          "output_type": "execute_result",
          "data": {
            "text/plain": [
              "<matplotlib.axes._subplots.AxesSubplot at 0x7f1225acb550>"
            ]
          },
          "metadata": {
            "tags": []
          },
          "execution_count": 180
        },
        {
          "output_type": "display_data",
          "data": {
            "image/png": "[encoded data removed]",
            "text/plain": [
              "<Figure size 1152x648 with 1 Axes>"
            ]
          },
          "metadata": {
            "tags": []
          }
        }
      ]
    },
    {
      "cell_type": "code",
      "metadata": {
        "colab": {
          "base_uri": "https://localhost:8080/"
        },
        "id": "ZxCG-EBxexX3",
        "outputId": "8dafb52c-6242-4857-e8de-2666ba10d860"
      },
      "source": [
        "train.genero.value_counts().sort_values()"
      ],
      "execution_count": null,
      "outputs": [
        {
          "output_type": "execute_result",
          "data": {
            "text/plain": [
              "M    3575\n",
              "F    3627\n",
              "Name: genero, dtype: int64"
            ]
          },
          "metadata": {
            "tags": []
          },
          "execution_count": 114
        }
      ]
    },
    {
      "cell_type": "code",
      "metadata": {
        "colab": {
          "base_uri": "https://localhost:8080/",
          "height": 537
        },
        "id": "ZfqCZI9ce4JA",
        "outputId": "ca77c4ff-670d-445b-efeb-2d60b21ad711"
      },
      "source": [
        "train.genero.value_counts().sort_values().plot(kind = \"pie\")"
      ],
      "execution_count": null,
      "outputs": [
        {
          "output_type": "execute_result",
          "data": {
            "text/plain": [
              "<matplotlib.axes._subplots.AxesSubplot at 0x7f160c945e80>"
            ]
          },
          "metadata": {
            "tags": []
          },
          "execution_count": 22
        },
        {
          "output_type": "display_data",
          "data": {
            "image/png": "[encoded data removed]",
            "text/plain": [
              "<Figure size 1152x648 with 1 Axes>"
            ]
          },
          "metadata": {
            "tags": []
          }
        }
      ]
    },
    {
      "cell_type": "code",
      "metadata": {
        "colab": {
          "base_uri": "https://localhost:8080/"
        },
        "id": "jPJLSy7RfLjl",
        "outputId": "4b86088d-ff9c-40f9-8ed9-e2dab7ceb2be"
      },
      "source": [
        "train.edad.describe()"
      ],
      "execution_count": null,
      "outputs": [
        {
          "output_type": "execute_result",
          "data": {
            "text/plain": [
              "count    7202.000000\n",
              "mean       40.393641\n",
              "std         5.065561\n",
              "min        22.000000\n",
              "25%        37.000000\n",
              "50%        40.000000\n",
              "75%        44.000000\n",
              "max        59.000000\n",
              "Name: edad, dtype: float64"
            ]
          },
          "metadata": {
            "tags": []
          },
          "execution_count": 170
        }
      ]
    },
    {
      "cell_type": "code",
      "metadata": {
        "colab": {
          "base_uri": "https://localhost:8080/",
          "height": 571
        },
        "id": "R0Wqk5sZe-Dq",
        "outputId": "27df7308-155e-45b0-82d7-6c8d4001c57d"
      },
      "source": [
        "sns.distplot(train[\"edad\"])"
      ],
      "execution_count": null,
      "outputs": [
        {
          "output_type": "execute_result",
          "data": {
            "text/plain": [
              "<matplotlib.axes._subplots.AxesSubplot at 0x7f1226666ba8>"
            ]
          },
          "metadata": {
            "tags": []
          },
          "execution_count": 118
        },
        {
          "output_type": "display_data",
          "data": {
            "image/png": "[encoded data removed]",
            "text/plain": [
              "<Figure size 1152x648 with 1 Axes>"
            ]
          },
          "metadata": {
            "tags": []
          }
        }
      ]
    },
    {
      "cell_type": "code",
      "metadata": {
        "colab": {
          "base_uri": "https://localhost:8080/"
        },
        "id": "E5fnsMMkgTNz",
        "outputId": "1daf7eae-27d8-4b39-b6ef-844207e80a31"
      },
      "source": [
        "train.codigo_destino.value_counts().sort_values()"
      ],
      "execution_count": null,
      "outputs": [
        {
          "output_type": "execute_result",
          "data": {
            "text/plain": [
              "ES     858\n",
              "UK     875\n",
              "NL     890\n",
              "AR     895\n",
              "PE     898\n",
              "IT     919\n",
              "COL    920\n",
              "US     947\n",
              "Name: codigo_destino, dtype: int64"
            ]
          },
          "metadata": {
            "tags": []
          },
          "execution_count": 126
        }
      ]
    },
    {
      "cell_type": "code",
      "metadata": {
        "colab": {
          "base_uri": "https://localhost:8080/",
          "height": 537
        },
        "id": "D3KmZqPsggBg",
        "outputId": "13e70067-5d47-45a2-aa4a-867d769779ed"
      },
      "source": [
        "train.codigo_destino.value_counts().sort_values().plot(kind = \"pie\")"
      ],
      "execution_count": null,
      "outputs": [
        {
          "output_type": "execute_result",
          "data": {
            "text/plain": [
              "<matplotlib.axes._subplots.AxesSubplot at 0x7f1225b3ef98>"
            ]
          },
          "metadata": {
            "tags": []
          },
          "execution_count": 177
        },
        {
          "output_type": "display_data",
          "data": {
            "image/png": "[encoded data removed]",
            "text/plain": [
              "<Figure size 1152x648 with 1 Axes>"
            ]
          },
          "metadata": {
            "tags": []
          }
        }
      ]
    },
    {
      "cell_type": "code",
      "metadata": {
        "colab": {
          "base_uri": "https://localhost:8080/"
        },
        "id": "vASpu3E8Q7ka",
        "outputId": "17f36dfb-4b6b-456e-ad69-9fbd2a45a608"
      },
      "source": [
        "train.niños.value_counts().sort_values()"
      ],
      "execution_count": null,
      "outputs": [
        {
          "output_type": "execute_result",
          "data": {
            "text/plain": [
              "0    3574\n",
              "1    3628\n",
              "Name: niños, dtype: int64"
            ]
          },
          "metadata": {
            "tags": []
          },
          "execution_count": 226
        }
      ]
    },
    {
      "cell_type": "code",
      "metadata": {
        "colab": {
          "base_uri": "https://localhost:8080/",
          "height": 537
        },
        "id": "VnljOsEmQmDA",
        "outputId": "f626ef2d-a6a5-497a-97c2-78b4134db7f7"
      },
      "source": [
        "train.niños.value_counts().sort_values().plot(kind = \"pie\")"
      ],
      "execution_count": null,
      "outputs": [
        {
          "output_type": "execute_result",
          "data": {
            "text/plain": [
              "<matplotlib.axes._subplots.AxesSubplot at 0x7f1224ff0ef0>"
            ]
          },
          "metadata": {
            "tags": []
          },
          "execution_count": 225
        },
        {
          "output_type": "display_data",
          "data": {
            "image/png": "[encoded data removed]",
            "text/plain": [
              "<Figure size 1152x648 with 1 Axes>"
            ]
          },
          "metadata": {
            "tags": []
          }
        }
      ]
    },
    {
      "cell_type": "code",
      "metadata": {
        "colab": {
          "base_uri": "https://localhost:8080/"
        },
        "id": "Hamg25I4iMbr",
        "outputId": "38f9e494-3c04-46c5-fb42-5e617c940efe"
      },
      "source": [
        "train.tipo_acomodacion.value_counts().sort_values()"
      ],
      "execution_count": null,
      "outputs": [
        {
          "output_type": "execute_result",
          "data": {
            "text/plain": [
              "AirBnB    3118\n",
              "Hotel     4084\n",
              "Name: tipo_acomodacion, dtype: int64"
            ]
          },
          "metadata": {
            "tags": []
          },
          "execution_count": 130
        }
      ]
    },
    {
      "cell_type": "code",
      "metadata": {
        "colab": {
          "base_uri": "https://localhost:8080/",
          "height": 537
        },
        "id": "OhqotJcuiTf-",
        "outputId": "c6b0f166-c861-42b1-baae-1ea54ae0ced1"
      },
      "source": [
        "train.tipo_acomodacion.value_counts().sort_values().plot(kind = \"pie\")"
      ],
      "execution_count": null,
      "outputs": [
        {
          "output_type": "execute_result",
          "data": {
            "text/plain": [
              "<matplotlib.axes._subplots.AxesSubplot at 0x7f1225af7748>"
            ]
          },
          "metadata": {
            "tags": []
          },
          "execution_count": 178
        },
        {
          "output_type": "display_data",
          "data": {
            "image/png": "[encoded data removed]",
            "text/plain": [
              "<Figure size 1152x648 with 1 Axes>"
            ]
          },
          "metadata": {
            "tags": []
          }
        }
      ]
    },
    {
      "cell_type": "markdown",
      "metadata": {
        "id": "oSZmPHhjkxEs"
      },
      "source": [
        "[EN]\n",
        "\n",
        "First observation: There's are an equivalent number for gender, children and destination code entries. An obvious pattern amid them might be complicated to spot. \n",
        "\n",
        "Second observation: Most reservations were made my middle age people, with our interquartile range being between 37 and 44 y.o. \n",
        "\n",
        "Third observation: The interquartile range for the stay lengths is from 3 to 5 nights. \n",
        "\n",
        "Fourth observation: Most reservations were made for hotels -- over a quarter more than for AirBnB.\n",
        "\n",
        "[ES]\n",
        "\n",
        "Primera observación: Hay un número equivalente para los features género, niños y código de destino. Un patrón obvio entre ellas podría ser difícil de detectar.\n",
        "\n",
        "Segunda observación: La mayoría de reservaciones fueron hechas por gente de mediana edad, siendo el rango intercuartílico entre 37 y 44 años de edad.\n",
        "\n",
        "Tercera observación: El rango intercuartílico para las estadías es de 3 a 5 noches.\n",
        "\n",
        "Cuarta observación: La mayoría de reservaciones fueron hechas para hoteles, con una cuarte parte más que AirBnB."
      ]
    },
    {
      "cell_type": "markdown",
      "metadata": {
        "id": "TZ0Q0hPToDoP"
      },
      "source": [
        "**Correlation Analysis**"
      ]
    },
    {
      "cell_type": "code",
      "metadata": {
        "colab": {
          "base_uri": "https://localhost:8080/",
          "height": 419
        },
        "id": "aX4cwYtY8cWv",
        "outputId": "473467d6-d5e7-491b-e08d-21784dd6272d"
      },
      "source": [
        "eda = train\n",
        "le = LabelEncoder()\n",
        "eda['genero'] = le.fit_transform(eda['genero'])\n",
        "eda['codigo_destino'] = le.fit_transform(eda['codigo_destino'])\n",
        "eda['tipo_acomodacion'] = le.fit_transform(eda['tipo_acomodacion'])\n",
        "eda"
      ],
      "execution_count": null,
      "outputs": [
        {
          "output_type": "execute_result",
          "data": {
            "text/html": [
              "<div>\n",
              "<style scoped>\n",
              "    .dataframe tbody tr th:only-of-type {\n",
              "        vertical-align: middle;\n",
              "    }\n",
              "\n",
              "    .dataframe tbody tr th {\n",
              "        vertical-align: top;\n",
              "    }\n",
              "\n",
              "    .dataframe thead th {\n",
              "        text-align: right;\n",
              "    }\n",
              "</style>\n",
              "<table border=\"1\" class=\"dataframe\">\n",
              "  <thead>\n",
              "    <tr style=\"text-align: right;\">\n",
              "      <th></th>\n",
              "      <th>duracion_estadia</th>\n",
              "      <th>genero</th>\n",
              "      <th>edad</th>\n",
              "      <th>niños</th>\n",
              "      <th>codigo_destino</th>\n",
              "      <th>tipo_acomodacion</th>\n",
              "    </tr>\n",
              "  </thead>\n",
              "  <tbody>\n",
              "    <tr>\n",
              "      <th>0</th>\n",
              "      <td>7</td>\n",
              "      <td>0</td>\n",
              "      <td>40</td>\n",
              "      <td>0</td>\n",
              "      <td>1</td>\n",
              "      <td>0</td>\n",
              "    </tr>\n",
              "    <tr>\n",
              "      <th>1</th>\n",
              "      <td>5</td>\n",
              "      <td>1</td>\n",
              "      <td>42</td>\n",
              "      <td>0</td>\n",
              "      <td>5</td>\n",
              "      <td>0</td>\n",
              "    </tr>\n",
              "    <tr>\n",
              "      <th>2</th>\n",
              "      <td>6</td>\n",
              "      <td>1</td>\n",
              "      <td>46</td>\n",
              "      <td>1</td>\n",
              "      <td>3</td>\n",
              "      <td>1</td>\n",
              "    </tr>\n",
              "    <tr>\n",
              "      <th>3</th>\n",
              "      <td>4</td>\n",
              "      <td>0</td>\n",
              "      <td>43</td>\n",
              "      <td>0</td>\n",
              "      <td>1</td>\n",
              "      <td>0</td>\n",
              "    </tr>\n",
              "    <tr>\n",
              "      <th>4</th>\n",
              "      <td>5</td>\n",
              "      <td>1</td>\n",
              "      <td>30</td>\n",
              "      <td>1</td>\n",
              "      <td>5</td>\n",
              "      <td>0</td>\n",
              "    </tr>\n",
              "    <tr>\n",
              "      <th>...</th>\n",
              "      <td>...</td>\n",
              "      <td>...</td>\n",
              "      <td>...</td>\n",
              "      <td>...</td>\n",
              "      <td>...</td>\n",
              "      <td>...</td>\n",
              "    </tr>\n",
              "    <tr>\n",
              "      <th>7197</th>\n",
              "      <td>4</td>\n",
              "      <td>0</td>\n",
              "      <td>33</td>\n",
              "      <td>1</td>\n",
              "      <td>0</td>\n",
              "      <td>1</td>\n",
              "    </tr>\n",
              "    <tr>\n",
              "      <th>7198</th>\n",
              "      <td>4</td>\n",
              "      <td>0</td>\n",
              "      <td>37</td>\n",
              "      <td>1</td>\n",
              "      <td>2</td>\n",
              "      <td>1</td>\n",
              "    </tr>\n",
              "    <tr>\n",
              "      <th>7199</th>\n",
              "      <td>6</td>\n",
              "      <td>1</td>\n",
              "      <td>38</td>\n",
              "      <td>0</td>\n",
              "      <td>0</td>\n",
              "      <td>1</td>\n",
              "    </tr>\n",
              "    <tr>\n",
              "      <th>7200</th>\n",
              "      <td>7</td>\n",
              "      <td>1</td>\n",
              "      <td>42</td>\n",
              "      <td>1</td>\n",
              "      <td>0</td>\n",
              "      <td>1</td>\n",
              "    </tr>\n",
              "    <tr>\n",
              "      <th>7201</th>\n",
              "      <td>5</td>\n",
              "      <td>0</td>\n",
              "      <td>43</td>\n",
              "      <td>0</td>\n",
              "      <td>7</td>\n",
              "      <td>1</td>\n",
              "    </tr>\n",
              "  </tbody>\n",
              "</table>\n",
              "<p>7202 rows × 6 columns</p>\n",
              "</div>"
            ],
            "text/plain": [
              "      duracion_estadia  genero  edad  niños  codigo_destino  tipo_acomodacion\n",
              "0                    7       0    40      0               1                 0\n",
              "1                    5       1    42      0               5                 0\n",
              "2                    6       1    46      1               3                 1\n",
              "3                    4       0    43      0               1                 0\n",
              "4                    5       1    30      1               5                 0\n",
              "...                ...     ...   ...    ...             ...               ...\n",
              "7197                 4       0    33      1               0                 1\n",
              "7198                 4       0    37      1               2                 1\n",
              "7199                 6       1    38      0               0                 1\n",
              "7200                 7       1    42      1               0                 1\n",
              "7201                 5       0    43      0               7                 1\n",
              "\n",
              "[7202 rows x 6 columns]"
            ]
          },
          "metadata": {
            "tags": []
          },
          "execution_count": 23
        }
      ]
    },
    {
      "cell_type": "code",
      "metadata": {
        "colab": {
          "base_uri": "https://localhost:8080/",
          "height": 559
        },
        "id": "nrdu0ufp9-MI",
        "outputId": "9434468f-0767-4794-e830-ffee8ce9272c"
      },
      "source": [
        "corr = eda.corr()\n",
        "sns.heatmap(corr, annot = True, yticklabels=corr.columns, xticklabels=corr.columns)"
      ],
      "execution_count": null,
      "outputs": [
        {
          "output_type": "execute_result",
          "data": {
            "text/plain": [
              "<matplotlib.axes._subplots.AxesSubplot at 0x7f1225515e10>"
            ]
          },
          "metadata": {
            "tags": []
          },
          "execution_count": 206
        },
        {
          "output_type": "display_data",
          "data": {
            "image/png": "[encoded data removed]",
            "text/plain": [
              "<Figure size 1152x648 with 2 Axes>"
            ]
          },
          "metadata": {
            "tags": []
          }
        }
      ]
    },
    {
      "cell_type": "code",
      "metadata": {
        "id": "gvYmkUeDBFu8"
      },
      "source": [
        "eda2 = pd.get_dummies(data = train, columns=[\"genero\", \"codigo_destino\"])\n",
        "eda2['tipo_acomodacion'] = le.fit_transform(eda2['tipo_acomodacion'])"
      ],
      "execution_count": null,
      "outputs": []
    },
    {
      "cell_type": "code",
      "metadata": {
        "colab": {
          "base_uri": "https://localhost:8080/",
          "height": 639
        },
        "id": "5hRLmWJABrhw",
        "outputId": "189654c9-0b90-4e88-e290-dbdb9ab23752"
      },
      "source": [
        "corr = eda2.corr()\n",
        "sns.heatmap(corr, annot = True, yticklabels=corr.columns, xticklabels=corr.columns)"
      ],
      "execution_count": null,
      "outputs": [
        {
          "output_type": "execute_result",
          "data": {
            "text/plain": [
              "<matplotlib.axes._subplots.AxesSubplot at 0x7f122522dcc0>"
            ]
          },
          "metadata": {
            "tags": []
          },
          "execution_count": 208
        },
        {
          "output_type": "display_data",
          "data": {
            "image/png": "[encoded data removed]",
            "text/plain": [
              "<Figure size 1152x648 with 2 Axes>"
            ]
          },
          "metadata": {
            "tags": []
          }
        }
      ]
    },
    {
      "cell_type": "markdown",
      "metadata": {
        "id": "VCRgOBt0oIlO"
      },
      "source": [
        "[EN]\n",
        "\n",
        "Fifth observation: There's no clear correlation between features. We might need all of them for training our model. \n",
        "\n",
        "[ES]\n",
        "\n",
        "Quinta observación: No hay una correlación clara entre features. Podríamos necesitarlas todas para entrenar nuestro modelo. "
      ]
    },
    {
      "cell_type": "markdown",
      "metadata": {
        "id": "P6pQAAKMBWs7"
      },
      "source": [
        "**Hotel Users Analysis**"
      ]
    },
    {
      "cell_type": "markdown",
      "metadata": {
        "id": "AckaoVuUoi9W"
      },
      "source": [
        "[EN]\n",
        "\n",
        "We'll do an analysis of people that have reserved in hotels. For this, we'll transform the AirBnB value into 0 and hotels into 1. In the first part we'll do a demographic analysis of people opting for hotels and later we'll measure the booking chances for a person given its features.\n",
        "\n",
        "Note: For the latter, a value close to 1 means that the user might prefer reserving at a hotel.\n",
        "\n",
        "[ES]\n",
        "\n",
        "Haremos una análisis de las personas que han reservado en hoteles. Para esto, hemos transformado AirBnB en un valor 0 y los hoteles en un valor 1. En la primera parte hacemos un análisis demográfico de las personas que optaron por hoteles y luego medimos las posibilidades de que una persona eliga esto dado sus características. \n",
        "\n",
        "Nota: Para el último, un valor cercano a 1 significa que nuestro usuario prefiera reservar en un hotel. "
      ]
    },
    {
      "cell_type": "code",
      "metadata": {
        "colab": {
          "base_uri": "https://localhost:8080/"
        },
        "id": "cE11X_zFA5yG",
        "outputId": "b5c9b47d-0358-49fa-9656-afa9f7cea85d"
      },
      "source": [
        "hotel = train[train[\"tipo_acomodacion\"] == 1]\n",
        "air = train[train[\"tipo_acomodacion\"] == 0]\n",
        "print(hotel.describe())\n",
        "print(air.describe())"
      ],
      "execution_count": null,
      "outputs": [
        {
          "output_type": "stream",
          "text": [
            "       duracion_estadia         edad        niños  tipo_acomodacion\n",
            "count       4084.000000  4084.000000  4084.000000            4084.0\n",
            "mean           3.978697    40.367532     0.498531               1.0\n",
            "std            1.738272     5.087944     0.500059               0.0\n",
            "min            1.000000    22.000000     0.000000               1.0\n",
            "25%            3.000000    37.000000     0.000000               1.0\n",
            "50%            4.000000    40.000000     0.000000               1.0\n",
            "75%            5.000000    44.000000     1.000000               1.0\n",
            "max           12.000000    56.000000     1.000000               1.0\n",
            "       duracion_estadia         edad        niños  tipo_acomodacion\n",
            "count       3118.000000  3118.000000  3118.000000            3118.0\n",
            "mean           3.997755    40.427838     0.510584               0.0\n",
            "std            1.716607     5.036704     0.499968               0.0\n",
            "min            1.000000    24.000000     0.000000               0.0\n",
            "25%            3.000000    37.000000     0.000000               0.0\n",
            "50%            4.000000    40.000000     1.000000               0.0\n",
            "75%            5.000000    44.000000     1.000000               0.0\n",
            "max           12.000000    59.000000     1.000000               0.0\n"
          ],
          "name": "stdout"
        }
      ]
    },
    {
      "cell_type": "code",
      "metadata": {
        "colab": {
          "base_uri": "https://localhost:8080/"
        },
        "id": "QXUs_g7YBupb",
        "outputId": "7f0be82f-dcba-4e63-bb11-612489b1abe8"
      },
      "source": [
        "print(hotel.genero.value_counts().sort_values())\n",
        "print(air.genero.value_counts().sort_values())"
      ],
      "execution_count": null,
      "outputs": [
        {
          "output_type": "stream",
          "text": [
            "M    1990\n",
            "F    2094\n",
            "Name: genero, dtype: int64\n",
            "F    1533\n",
            "M    1585\n",
            "Name: genero, dtype: int64\n"
          ],
          "name": "stdout"
        }
      ]
    },
    {
      "cell_type": "code",
      "metadata": {
        "colab": {
          "base_uri": "https://localhost:8080/",
          "height": 537
        },
        "id": "KycfppYMBb14",
        "outputId": "f0b32279-3cb3-40ad-cc9b-906000cc734f"
      },
      "source": [
        "hotel.genero.value_counts().sort_values().plot(kind = \"pie\")"
      ],
      "execution_count": null,
      "outputs": [
        {
          "output_type": "execute_result",
          "data": {
            "text/plain": [
              "<matplotlib.axes._subplots.AxesSubplot at 0x7f15ffd6fba8>"
            ]
          },
          "metadata": {
            "tags": []
          },
          "execution_count": 119
        },
        {
          "output_type": "display_data",
          "data": {
            "image/png": "[encoded data removed]",
            "text/plain": [
              "<Figure size 1152x648 with 1 Axes>"
            ]
          },
          "metadata": {
            "tags": []
          }
        }
      ]
    },
    {
      "cell_type": "code",
      "metadata": {
        "colab": {
          "base_uri": "https://localhost:8080/"
        },
        "id": "M590490KBzRJ",
        "outputId": "0a2e0e4a-719d-4e46-f6a7-efca0c8d218e"
      },
      "source": [
        "print(hotel.codigo_destino.value_counts().sort_values())\n",
        "print(air.codigo_destino.value_counts().sort_values())"
      ],
      "execution_count": null,
      "outputs": [
        {
          "output_type": "stream",
          "text": [
            "ES     483\n",
            "COL    492\n",
            "NL     504\n",
            "PE     504\n",
            "UK     516\n",
            "AR     524\n",
            "IT     526\n",
            "US     535\n",
            "Name: codigo_destino, dtype: int64\n",
            "UK     359\n",
            "AR     371\n",
            "ES     375\n",
            "NL     386\n",
            "IT     393\n",
            "PE     394\n",
            "US     412\n",
            "COL    428\n",
            "Name: codigo_destino, dtype: int64\n"
          ],
          "name": "stdout"
        }
      ]
    },
    {
      "cell_type": "code",
      "metadata": {
        "colab": {
          "base_uri": "https://localhost:8080/",
          "height": 537
        },
        "id": "XPJi9CqpB5yX",
        "outputId": "ef85c2f9-5bca-46b6-b0d2-d16081fe08a7"
      },
      "source": [
        "hotel.codigo_destino.value_counts().sort_values().plot(kind = \"pie\")"
      ],
      "execution_count": null,
      "outputs": [
        {
          "output_type": "execute_result",
          "data": {
            "text/plain": [
              "<matplotlib.axes._subplots.AxesSubplot at 0x7f15ffea97b8>"
            ]
          },
          "metadata": {
            "tags": []
          },
          "execution_count": 122
        },
        {
          "output_type": "display_data",
          "data": {
            "image/png": "[encoded data removed]",
            "text/plain": [
              "<Figure size 1152x648 with 1 Axes>"
            ]
          },
          "metadata": {
            "tags": []
          }
        }
      ]
    },
    {
      "cell_type": "markdown",
      "metadata": {
        "id": "Imd4fH1TpgvL"
      },
      "source": [
        "[EN]\n",
        "\n",
        "First observation: The demographics of the people booking in hotels is almost equal to the entire data population.\n",
        "\n",
        "[ES]\n",
        "\n",
        "Primera observación: La demografía de la persona reservando en hoteles es casí igual a la población total den uestros datos. "
      ]
    },
    {
      "cell_type": "code",
      "metadata": {
        "colab": {
          "base_uri": "https://localhost:8080/",
          "height": 571
        },
        "id": "84eZO7cFaKCu",
        "outputId": "54ab5522-8bf8-4a9a-879d-c66a65fcc75c"
      },
      "source": [
        "train['tipo_acomodacion'] = le.fit_transform(eda2['tipo_acomodacion'])\n",
        "sns.barplot(x=\"genero\", y=\"tipo_acomodacion\", data=train, hue = \"niños\")"
      ],
      "execution_count": null,
      "outputs": [
        {
          "output_type": "execute_result",
          "data": {
            "text/plain": [
              "<matplotlib.axes._subplots.AxesSubplot at 0x7f160ca010f0>"
            ]
          },
          "metadata": {
            "tags": []
          },
          "execution_count": 32
        },
        {
          "output_type": "display_data",
          "data": {
            "image/png": "[encoded data removed]",
            "text/plain": [
              "<Figure size 1152x648 with 1 Axes>"
            ]
          },
          "metadata": {
            "tags": []
          }
        }
      ]
    },
    {
      "cell_type": "code",
      "metadata": {
        "colab": {
          "base_uri": "https://localhost:8080/",
          "height": 571
        },
        "id": "zAqZsV2WrzN2",
        "outputId": "2336ef7b-e338-4ab2-de8c-f0148539ac77"
      },
      "source": [
        "sns.barplot(x=\"codigo_destino\", y=\"tipo_acomodacion\", data=train, hue = \"niños\")"
      ],
      "execution_count": null,
      "outputs": [
        {
          "output_type": "execute_result",
          "data": {
            "text/plain": [
              "<matplotlib.axes._subplots.AxesSubplot at 0x7f160c7e19e8>"
            ]
          },
          "metadata": {
            "tags": []
          },
          "execution_count": 33
        },
        {
          "output_type": "display_data",
          "data": {
            "image/png": "[encoded data removed]",
            "text/plain": [
              "<Figure size 1152x648 with 1 Axes>"
            ]
          },
          "metadata": {
            "tags": []
          }
        }
      ]
    },
    {
      "cell_type": "code",
      "metadata": {
        "colab": {
          "base_uri": "https://localhost:8080/",
          "height": 571
        },
        "id": "VlujBl1GsmRn",
        "outputId": "e1defacd-fa31-4fbe-91ac-ca9687adbbc4"
      },
      "source": [
        "sns.barplot(x=\"duracion_estadia\", y=\"tipo_acomodacion\", data=train, hue = \"niños\")"
      ],
      "execution_count": null,
      "outputs": [
        {
          "output_type": "execute_result",
          "data": {
            "text/plain": [
              "<matplotlib.axes._subplots.AxesSubplot at 0x7f160c4ab748>"
            ]
          },
          "metadata": {
            "tags": []
          },
          "execution_count": 34
        },
        {
          "output_type": "display_data",
          "data": {
            "image/png": "[encoded data removed]",
            "text/plain": [
              "<Figure size 1152x648 with 1 Axes>"
            ]
          },
          "metadata": {
            "tags": []
          }
        }
      ]
    },
    {
      "cell_type": "code",
      "metadata": {
        "colab": {
          "base_uri": "https://localhost:8080/",
          "height": 571
        },
        "id": "FUt-MStWtHhc",
        "outputId": "6c6865ab-c51a-476b-c7ae-ddac0108cadb"
      },
      "source": [
        "sns.barplot(x=\"duracion_estadia\", y=\"tipo_acomodacion\", data=train, hue = \"codigo_destino\")"
      ],
      "execution_count": null,
      "outputs": [
        {
          "output_type": "execute_result",
          "data": {
            "text/plain": [
              "<matplotlib.axes._subplots.AxesSubplot at 0x7f160c396320>"
            ]
          },
          "metadata": {
            "tags": []
          },
          "execution_count": 35
        },
        {
          "output_type": "display_data",
          "data": {
            "image/png": "[encoded data removed]",
            "text/plain": [
              "<Figure size 1152x648 with 1 Axes>"
            ]
          },
          "metadata": {
            "tags": []
          }
        }
      ]
    },
    {
      "cell_type": "code",
      "metadata": {
        "colab": {
          "base_uri": "https://localhost:8080/",
          "height": 571
        },
        "id": "IbWMiwxgt-u-",
        "outputId": "48f48dec-2482-4599-e559-25df0b8ecefe"
      },
      "source": [
        "sns.barplot(x=\"duracion_estadia\", y=\"tipo_acomodacion\", data=train, hue = \"genero\")"
      ],
      "execution_count": null,
      "outputs": [
        {
          "output_type": "execute_result",
          "data": {
            "text/plain": [
              "<matplotlib.axes._subplots.AxesSubplot at 0x7f160c098048>"
            ]
          },
          "metadata": {
            "tags": []
          },
          "execution_count": 36
        },
        {
          "output_type": "display_data",
          "data": {
            "image/png": "[encoded data removed]",
            "text/plain": [
              "<Figure size 1152x648 with 1 Axes>"
            ]
          },
          "metadata": {
            "tags": []
          }
        }
      ]
    },
    {
      "cell_type": "code",
      "metadata": {
        "colab": {
          "base_uri": "https://localhost:8080/",
          "height": 571
        },
        "id": "aRaM3zKluh3N",
        "outputId": "4bc4b70e-2214-46f0-d95b-97b8214813cb"
      },
      "source": [
        "sns.barplot(x=\"edad\", y=\"tipo_acomodacion\", data=train, hue = \"niños\")"
      ],
      "execution_count": null,
      "outputs": [
        {
          "output_type": "execute_result",
          "data": {
            "text/plain": [
              "<matplotlib.axes._subplots.AxesSubplot at 0x7f160c3a4630>"
            ]
          },
          "metadata": {
            "tags": []
          },
          "execution_count": 39
        },
        {
          "output_type": "display_data",
          "data": {
            "image/png": "[encoded data removed]",
            "text/plain": [
              "<Figure size 1152x648 with 1 Axes>"
            ]
          },
          "metadata": {
            "tags": []
          }
        }
      ]
    },
    {
      "cell_type": "code",
      "metadata": {
        "colab": {
          "base_uri": "https://localhost:8080/",
          "height": 571
        },
        "id": "7vMvEZY3tu5A",
        "outputId": "aae2f5aa-fbc2-462a-fad9-0451edba6424"
      },
      "source": [
        "sns.barplot(x=\"edad\", y=\"tipo_acomodacion\", data=train, hue = \"genero\")"
      ],
      "execution_count": null,
      "outputs": [
        {
          "output_type": "execute_result",
          "data": {
            "text/plain": [
              "<matplotlib.axes._subplots.AxesSubplot at 0x7f160b788588>"
            ]
          },
          "metadata": {
            "tags": []
          },
          "execution_count": 41
        },
        {
          "output_type": "display_data",
          "data": {
            "image/png": "[encoded data removed]",
            "text/plain": [
              "<Figure size 1152x648 with 1 Axes>"
            ]
          },
          "metadata": {
            "tags": []
          }
        }
      ]
    },
    {
      "cell_type": "code",
      "metadata": {
        "colab": {
          "base_uri": "https://localhost:8080/",
          "height": 571
        },
        "id": "vC0cmzXWvZLk",
        "outputId": "bb06ad14-3b4a-4c85-c349-9fac04044cac"
      },
      "source": [
        "sns.barplot(x=\"edad\", y=\"tipo_acomodacion\", data=train, hue = \"codigo_destino\")"
      ],
      "execution_count": null,
      "outputs": [
        {
          "output_type": "execute_result",
          "data": {
            "text/plain": [
              "<matplotlib.axes._subplots.AxesSubplot at 0x7f160cd4f9b0>"
            ]
          },
          "metadata": {
            "tags": []
          },
          "execution_count": 42
        },
        {
          "output_type": "display_data",
          "data": {
            "image/png": "[encoded data removed]",
            "text/plain": [
              "<Figure size 1152x648 with 1 Axes>"
            ]
          },
          "metadata": {
            "tags": []
          }
        }
      ]
    },
    {
      "cell_type": "markdown",
      "metadata": {
        "id": "oYPxM280qHSV"
      },
      "source": [
        "[EN]\n",
        "\n",
        "Second observation: There's not much difference on the bookings made with children when we cross that data with bookings made by gender and per destination.\n",
        "\n",
        "Third observation: Hotel bookings tend to be more frequent for long stays.\n",
        "\n",
        "Fourth observation: Middle age individuals (around 40 y.o.) tend to prefer staying in AirBnBs, while youngsters and older people in hotels\n",
        "\n",
        "[ES]\n",
        "\n",
        "Segunda observación: No hay mucha diferencia entre las reservaciones hechas con niños cuando se cruza con datos de reservaciones hechas por género y para destinaciones.\n",
        "\n",
        "Tercera observación: Las reservaciones de hotel tienden a ser más frecuentes para estadías largas. \n",
        "\n",
        "Cuarta observación: Individuso de edad media (alrededor de 40 años) tienden a quedarse en AirBnBs, mientras los jóvenes y personas mayores en hoteles."
      ]
    },
    {
      "cell_type": "markdown",
      "metadata": {
        "id": "9FEy4LFPwADb"
      },
      "source": [
        "# Feature Engineering"
      ]
    },
    {
      "cell_type": "markdown",
      "metadata": {
        "id": "CVmFGt2KtPEV"
      },
      "source": [
        "[EN]\n",
        "\n",
        "We'll encode the categorical features into numerican values by using get_dummies that will return boolean values. The target column will be transformed into a column with boolean values.\n",
        "\n",
        "Later on, we'll divide our data into train and test. We finish creating k-folds to cross-validate our results.\n",
        "\n",
        "[ES]\n",
        "\n",
        "Encodearemos los features categóricos en valores numéricos usando get_dummies que nos regresa valores booleanos. La columna target se transformará en una columna con booleanos. \n",
        "\n",
        "Posteriormente, dividiremos nuestros datos de entrenamiento y pruebas. Terminamos creando nuestros k-folds para hacer una validación cruzada."
      ]
    },
    {
      "cell_type": "code",
      "metadata": {
        "colab": {
          "base_uri": "https://localhost:8080/",
          "height": 439
        },
        "id": "wmEg4jixrpTT",
        "outputId": "9e88b7f5-240f-48cf-e0bf-525864266257"
      },
      "source": [
        "model = pd.get_dummies(data = train, columns=[\"genero\", \"codigo_destino\"])\n",
        "model['tipo_acomodacion'] = le.fit_transform(model[\"tipo_acomodacion\"])\n",
        "model"
      ],
      "execution_count": 162,
      "outputs": [
        {
          "output_type": "execute_result",
          "data": {
            "text/html": [
              "<div>\n",
              "<style scoped>\n",
              "    .dataframe tbody tr th:only-of-type {\n",
              "        vertical-align: middle;\n",
              "    }\n",
              "\n",
              "    .dataframe tbody tr th {\n",
              "        vertical-align: top;\n",
              "    }\n",
              "\n",
              "    .dataframe thead th {\n",
              "        text-align: right;\n",
              "    }\n",
              "</style>\n",
              "<table border=\"1\" class=\"dataframe\">\n",
              "  <thead>\n",
              "    <tr style=\"text-align: right;\">\n",
              "      <th></th>\n",
              "      <th>duracion_estadia</th>\n",
              "      <th>edad</th>\n",
              "      <th>niños</th>\n",
              "      <th>tipo_acomodacion</th>\n",
              "      <th>genero_F</th>\n",
              "      <th>genero_M</th>\n",
              "      <th>codigo_destino_AR</th>\n",
              "      <th>codigo_destino_COL</th>\n",
              "      <th>codigo_destino_ES</th>\n",
              "      <th>codigo_destino_IT</th>\n",
              "      <th>codigo_destino_NL</th>\n",
              "      <th>codigo_destino_PE</th>\n",
              "      <th>codigo_destino_UK</th>\n",
              "      <th>codigo_destino_US</th>\n",
              "    </tr>\n",
              "  </thead>\n",
              "  <tbody>\n",
              "    <tr>\n",
              "      <th>0</th>\n",
              "      <td>7</td>\n",
              "      <td>40</td>\n",
              "      <td>0</td>\n",
              "      <td>0</td>\n",
              "      <td>1</td>\n",
              "      <td>0</td>\n",
              "      <td>0</td>\n",
              "      <td>1</td>\n",
              "      <td>0</td>\n",
              "      <td>0</td>\n",
              "      <td>0</td>\n",
              "      <td>0</td>\n",
              "      <td>0</td>\n",
              "      <td>0</td>\n",
              "    </tr>\n",
              "    <tr>\n",
              "      <th>1</th>\n",
              "      <td>5</td>\n",
              "      <td>42</td>\n",
              "      <td>0</td>\n",
              "      <td>0</td>\n",
              "      <td>0</td>\n",
              "      <td>1</td>\n",
              "      <td>0</td>\n",
              "      <td>0</td>\n",
              "      <td>0</td>\n",
              "      <td>0</td>\n",
              "      <td>0</td>\n",
              "      <td>1</td>\n",
              "      <td>0</td>\n",
              "      <td>0</td>\n",
              "    </tr>\n",
              "    <tr>\n",
              "      <th>2</th>\n",
              "      <td>6</td>\n",
              "      <td>46</td>\n",
              "      <td>1</td>\n",
              "      <td>1</td>\n",
              "      <td>0</td>\n",
              "      <td>1</td>\n",
              "      <td>0</td>\n",
              "      <td>0</td>\n",
              "      <td>0</td>\n",
              "      <td>1</td>\n",
              "      <td>0</td>\n",
              "      <td>0</td>\n",
              "      <td>0</td>\n",
              "      <td>0</td>\n",
              "    </tr>\n",
              "    <tr>\n",
              "      <th>3</th>\n",
              "      <td>4</td>\n",
              "      <td>43</td>\n",
              "      <td>0</td>\n",
              "      <td>0</td>\n",
              "      <td>1</td>\n",
              "      <td>0</td>\n",
              "      <td>0</td>\n",
              "      <td>1</td>\n",
              "      <td>0</td>\n",
              "      <td>0</td>\n",
              "      <td>0</td>\n",
              "      <td>0</td>\n",
              "      <td>0</td>\n",
              "      <td>0</td>\n",
              "    </tr>\n",
              "    <tr>\n",
              "      <th>4</th>\n",
              "      <td>5</td>\n",
              "      <td>30</td>\n",
              "      <td>1</td>\n",
              "      <td>0</td>\n",
              "      <td>0</td>\n",
              "      <td>1</td>\n",
              "      <td>0</td>\n",
              "      <td>0</td>\n",
              "      <td>0</td>\n",
              "      <td>0</td>\n",
              "      <td>0</td>\n",
              "      <td>1</td>\n",
              "      <td>0</td>\n",
              "      <td>0</td>\n",
              "    </tr>\n",
              "    <tr>\n",
              "      <th>...</th>\n",
              "      <td>...</td>\n",
              "      <td>...</td>\n",
              "      <td>...</td>\n",
              "      <td>...</td>\n",
              "      <td>...</td>\n",
              "      <td>...</td>\n",
              "      <td>...</td>\n",
              "      <td>...</td>\n",
              "      <td>...</td>\n",
              "      <td>...</td>\n",
              "      <td>...</td>\n",
              "      <td>...</td>\n",
              "      <td>...</td>\n",
              "      <td>...</td>\n",
              "    </tr>\n",
              "    <tr>\n",
              "      <th>7197</th>\n",
              "      <td>4</td>\n",
              "      <td>33</td>\n",
              "      <td>1</td>\n",
              "      <td>1</td>\n",
              "      <td>1</td>\n",
              "      <td>0</td>\n",
              "      <td>1</td>\n",
              "      <td>0</td>\n",
              "      <td>0</td>\n",
              "      <td>0</td>\n",
              "      <td>0</td>\n",
              "      <td>0</td>\n",
              "      <td>0</td>\n",
              "      <td>0</td>\n",
              "    </tr>\n",
              "    <tr>\n",
              "      <th>7198</th>\n",
              "      <td>4</td>\n",
              "      <td>37</td>\n",
              "      <td>1</td>\n",
              "      <td>1</td>\n",
              "      <td>1</td>\n",
              "      <td>0</td>\n",
              "      <td>0</td>\n",
              "      <td>0</td>\n",
              "      <td>1</td>\n",
              "      <td>0</td>\n",
              "      <td>0</td>\n",
              "      <td>0</td>\n",
              "      <td>0</td>\n",
              "      <td>0</td>\n",
              "    </tr>\n",
              "    <tr>\n",
              "      <th>7199</th>\n",
              "      <td>6</td>\n",
              "      <td>38</td>\n",
              "      <td>0</td>\n",
              "      <td>1</td>\n",
              "      <td>0</td>\n",
              "      <td>1</td>\n",
              "      <td>1</td>\n",
              "      <td>0</td>\n",
              "      <td>0</td>\n",
              "      <td>0</td>\n",
              "      <td>0</td>\n",
              "      <td>0</td>\n",
              "      <td>0</td>\n",
              "      <td>0</td>\n",
              "    </tr>\n",
              "    <tr>\n",
              "      <th>7200</th>\n",
              "      <td>7</td>\n",
              "      <td>42</td>\n",
              "      <td>1</td>\n",
              "      <td>1</td>\n",
              "      <td>0</td>\n",
              "      <td>1</td>\n",
              "      <td>1</td>\n",
              "      <td>0</td>\n",
              "      <td>0</td>\n",
              "      <td>0</td>\n",
              "      <td>0</td>\n",
              "      <td>0</td>\n",
              "      <td>0</td>\n",
              "      <td>0</td>\n",
              "    </tr>\n",
              "    <tr>\n",
              "      <th>7201</th>\n",
              "      <td>5</td>\n",
              "      <td>43</td>\n",
              "      <td>0</td>\n",
              "      <td>1</td>\n",
              "      <td>1</td>\n",
              "      <td>0</td>\n",
              "      <td>0</td>\n",
              "      <td>0</td>\n",
              "      <td>0</td>\n",
              "      <td>0</td>\n",
              "      <td>0</td>\n",
              "      <td>0</td>\n",
              "      <td>0</td>\n",
              "      <td>1</td>\n",
              "    </tr>\n",
              "  </tbody>\n",
              "</table>\n",
              "<p>7202 rows × 14 columns</p>\n",
              "</div>"
            ],
            "text/plain": [
              "      duracion_estadia  edad  ...  codigo_destino_UK  codigo_destino_US\n",
              "0                    7    40  ...                  0                  0\n",
              "1                    5    42  ...                  0                  0\n",
              "2                    6    46  ...                  0                  0\n",
              "3                    4    43  ...                  0                  0\n",
              "4                    5    30  ...                  0                  0\n",
              "...                ...   ...  ...                ...                ...\n",
              "7197                 4    33  ...                  0                  0\n",
              "7198                 4    37  ...                  0                  0\n",
              "7199                 6    38  ...                  0                  0\n",
              "7200                 7    42  ...                  0                  0\n",
              "7201                 5    43  ...                  0                  1\n",
              "\n",
              "[7202 rows x 14 columns]"
            ]
          },
          "metadata": {
            "tags": []
          },
          "execution_count": 162
        }
      ]
    },
    {
      "cell_type": "code",
      "metadata": {
        "colab": {
          "base_uri": "https://localhost:8080/",
          "height": 439
        },
        "id": "ma060DIIwwmR",
        "outputId": "116348ba-2998-47c0-e743-a76e6da90e3d"
      },
      "source": [
        "test_model = pd.get_dummies(data = test, columns=[\"genero\", \"codigo_destino\"])\n",
        "test_model"
      ],
      "execution_count": 163,
      "outputs": [
        {
          "output_type": "execute_result",
          "data": {
            "text/html": [
              "<div>\n",
              "<style scoped>\n",
              "    .dataframe tbody tr th:only-of-type {\n",
              "        vertical-align: middle;\n",
              "    }\n",
              "\n",
              "    .dataframe tbody tr th {\n",
              "        vertical-align: top;\n",
              "    }\n",
              "\n",
              "    .dataframe thead th {\n",
              "        text-align: right;\n",
              "    }\n",
              "</style>\n",
              "<table border=\"1\" class=\"dataframe\">\n",
              "  <thead>\n",
              "    <tr style=\"text-align: right;\">\n",
              "      <th></th>\n",
              "      <th>duracion_estadia</th>\n",
              "      <th>edad</th>\n",
              "      <th>niños</th>\n",
              "      <th>genero_F</th>\n",
              "      <th>genero_M</th>\n",
              "      <th>codigo_destino_AR</th>\n",
              "      <th>codigo_destino_COL</th>\n",
              "      <th>codigo_destino_ES</th>\n",
              "      <th>codigo_destino_IT</th>\n",
              "      <th>codigo_destino_NL</th>\n",
              "      <th>codigo_destino_PE</th>\n",
              "      <th>codigo_destino_UK</th>\n",
              "      <th>codigo_destino_US</th>\n",
              "    </tr>\n",
              "  </thead>\n",
              "  <tbody>\n",
              "    <tr>\n",
              "      <th>0</th>\n",
              "      <td>2</td>\n",
              "      <td>38.0</td>\n",
              "      <td>0.0</td>\n",
              "      <td>1</td>\n",
              "      <td>0</td>\n",
              "      <td>0</td>\n",
              "      <td>0</td>\n",
              "      <td>0</td>\n",
              "      <td>0</td>\n",
              "      <td>0</td>\n",
              "      <td>0</td>\n",
              "      <td>0</td>\n",
              "      <td>1</td>\n",
              "    </tr>\n",
              "    <tr>\n",
              "      <th>1</th>\n",
              "      <td>6</td>\n",
              "      <td>37.0</td>\n",
              "      <td>0.0</td>\n",
              "      <td>0</td>\n",
              "      <td>1</td>\n",
              "      <td>0</td>\n",
              "      <td>0</td>\n",
              "      <td>1</td>\n",
              "      <td>0</td>\n",
              "      <td>0</td>\n",
              "      <td>0</td>\n",
              "      <td>0</td>\n",
              "      <td>0</td>\n",
              "    </tr>\n",
              "    <tr>\n",
              "      <th>2</th>\n",
              "      <td>1</td>\n",
              "      <td>37.0</td>\n",
              "      <td>1.0</td>\n",
              "      <td>0</td>\n",
              "      <td>1</td>\n",
              "      <td>0</td>\n",
              "      <td>0</td>\n",
              "      <td>1</td>\n",
              "      <td>0</td>\n",
              "      <td>0</td>\n",
              "      <td>0</td>\n",
              "      <td>0</td>\n",
              "      <td>0</td>\n",
              "    </tr>\n",
              "    <tr>\n",
              "      <th>3</th>\n",
              "      <td>5</td>\n",
              "      <td>50.0</td>\n",
              "      <td>0.0</td>\n",
              "      <td>1</td>\n",
              "      <td>0</td>\n",
              "      <td>0</td>\n",
              "      <td>0</td>\n",
              "      <td>0</td>\n",
              "      <td>0</td>\n",
              "      <td>0</td>\n",
              "      <td>0</td>\n",
              "      <td>1</td>\n",
              "      <td>0</td>\n",
              "    </tr>\n",
              "    <tr>\n",
              "      <th>4</th>\n",
              "      <td>4</td>\n",
              "      <td>42.0</td>\n",
              "      <td>1.0</td>\n",
              "      <td>1</td>\n",
              "      <td>0</td>\n",
              "      <td>1</td>\n",
              "      <td>0</td>\n",
              "      <td>0</td>\n",
              "      <td>0</td>\n",
              "      <td>0</td>\n",
              "      <td>0</td>\n",
              "      <td>0</td>\n",
              "      <td>0</td>\n",
              "    </tr>\n",
              "    <tr>\n",
              "      <th>...</th>\n",
              "      <td>...</td>\n",
              "      <td>...</td>\n",
              "      <td>...</td>\n",
              "      <td>...</td>\n",
              "      <td>...</td>\n",
              "      <td>...</td>\n",
              "      <td>...</td>\n",
              "      <td>...</td>\n",
              "      <td>...</td>\n",
              "      <td>...</td>\n",
              "      <td>...</td>\n",
              "      <td>...</td>\n",
              "      <td>...</td>\n",
              "    </tr>\n",
              "    <tr>\n",
              "      <th>4221</th>\n",
              "      <td>5</td>\n",
              "      <td>48.0</td>\n",
              "      <td>1.0</td>\n",
              "      <td>1</td>\n",
              "      <td>0</td>\n",
              "      <td>0</td>\n",
              "      <td>0</td>\n",
              "      <td>0</td>\n",
              "      <td>0</td>\n",
              "      <td>0</td>\n",
              "      <td>1</td>\n",
              "      <td>0</td>\n",
              "      <td>0</td>\n",
              "    </tr>\n",
              "    <tr>\n",
              "      <th>4222</th>\n",
              "      <td>6</td>\n",
              "      <td>37.0</td>\n",
              "      <td>0.0</td>\n",
              "      <td>0</td>\n",
              "      <td>1</td>\n",
              "      <td>0</td>\n",
              "      <td>1</td>\n",
              "      <td>0</td>\n",
              "      <td>0</td>\n",
              "      <td>0</td>\n",
              "      <td>0</td>\n",
              "      <td>0</td>\n",
              "      <td>0</td>\n",
              "    </tr>\n",
              "    <tr>\n",
              "      <th>4223</th>\n",
              "      <td>4</td>\n",
              "      <td>42.0</td>\n",
              "      <td>1.0</td>\n",
              "      <td>0</td>\n",
              "      <td>1</td>\n",
              "      <td>0</td>\n",
              "      <td>0</td>\n",
              "      <td>0</td>\n",
              "      <td>0</td>\n",
              "      <td>0</td>\n",
              "      <td>0</td>\n",
              "      <td>1</td>\n",
              "      <td>0</td>\n",
              "    </tr>\n",
              "    <tr>\n",
              "      <th>4227</th>\n",
              "      <td>4</td>\n",
              "      <td>48.0</td>\n",
              "      <td>0.0</td>\n",
              "      <td>0</td>\n",
              "      <td>1</td>\n",
              "      <td>0</td>\n",
              "      <td>0</td>\n",
              "      <td>0</td>\n",
              "      <td>0</td>\n",
              "      <td>0</td>\n",
              "      <td>0</td>\n",
              "      <td>1</td>\n",
              "      <td>0</td>\n",
              "    </tr>\n",
              "    <tr>\n",
              "      <th>4228</th>\n",
              "      <td>2</td>\n",
              "      <td>41.0</td>\n",
              "      <td>1.0</td>\n",
              "      <td>0</td>\n",
              "      <td>1</td>\n",
              "      <td>0</td>\n",
              "      <td>0</td>\n",
              "      <td>0</td>\n",
              "      <td>0</td>\n",
              "      <td>0</td>\n",
              "      <td>0</td>\n",
              "      <td>1</td>\n",
              "      <td>0</td>\n",
              "    </tr>\n",
              "  </tbody>\n",
              "</table>\n",
              "<p>3079 rows × 13 columns</p>\n",
              "</div>"
            ],
            "text/plain": [
              "      duracion_estadia  edad  ...  codigo_destino_UK  codigo_destino_US\n",
              "0                    2  38.0  ...                  0                  1\n",
              "1                    6  37.0  ...                  0                  0\n",
              "2                    1  37.0  ...                  0                  0\n",
              "3                    5  50.0  ...                  1                  0\n",
              "4                    4  42.0  ...                  0                  0\n",
              "...                ...   ...  ...                ...                ...\n",
              "4221                 5  48.0  ...                  0                  0\n",
              "4222                 6  37.0  ...                  0                  0\n",
              "4223                 4  42.0  ...                  1                  0\n",
              "4227                 4  48.0  ...                  1                  0\n",
              "4228                 2  41.0  ...                  1                  0\n",
              "\n",
              "[3079 rows x 13 columns]"
            ]
          },
          "metadata": {
            "tags": []
          },
          "execution_count": 163
        }
      ]
    },
    {
      "cell_type": "code",
      "metadata": {
        "id": "byU_FILlxEsq"
      },
      "source": [
        "X = model.drop([\"tipo_acomodacion\"], axis = 1)\n",
        "y = model[\"tipo_acomodacion\"]\n",
        "\n",
        "X_train, X_test, y_train, y_test = train_test_split(X, y, test_size = 0.20, random_state = 42)\n",
        "k_fold = KFold(n_splits=10, shuffle=True, random_state=0)"
      ],
      "execution_count": 164,
      "outputs": []
    },
    {
      "cell_type": "markdown",
      "metadata": {
        "id": "UzANjUgpxWWN"
      },
      "source": [
        "# Model Training"
      ]
    },
    {
      "cell_type": "markdown",
      "metadata": {
        "id": "Ai_l_vdWu2JH"
      },
      "source": [
        "[EN]\n",
        "\n",
        "We'll use five classification algorithms in order to see which one provides the best outcome. We'll further assess the model with a confusion matrix.\n",
        "\n",
        "[ES]\n",
        "\n",
        "Usaremos cinco algoritmos de clasificación para ver cual da un mejor resultado. Evaluaremos a profundidad el modelo con una matriz de confusión. "
      ]
    },
    {
      "cell_type": "markdown",
      "metadata": {
        "id": "bf1Sm7P5x63X"
      },
      "source": [
        "**Decision Tree**"
      ]
    },
    {
      "cell_type": "code",
      "metadata": {
        "colab": {
          "base_uri": "https://localhost:8080/"
        },
        "id": "zyE4BkObxnYu",
        "outputId": "534dda67-8739-45c0-9332-32ccefd91d94"
      },
      "source": [
        "clf = tree.DecisionTreeClassifier().fit(X, y)\n",
        "score = cross_val_score(clf, X, y, cv = k_fold, n_jobs = 1, scoring = \"accuracy\")\n",
        "print(score)"
      ],
      "execution_count": 165,
      "outputs": [
        {
          "output_type": "stream",
          "text": [
            "[0.78085992 0.80859917 0.75277778 0.7625     0.775      0.76805556\n",
            " 0.76388889 0.7875     0.76111111 0.77638889]\n"
          ],
          "name": "stdout"
        }
      ]
    },
    {
      "cell_type": "code",
      "metadata": {
        "colab": {
          "base_uri": "https://localhost:8080/"
        },
        "id": "JxaRF-cVxsYy",
        "outputId": "ca2231a6-61fe-4df8-9249-16c4a623996d"
      },
      "source": [
        "score.mean()"
      ],
      "execution_count": 166,
      "outputs": [
        {
          "output_type": "execute_result",
          "data": {
            "text/plain": [
              "0.7736681306826938"
            ]
          },
          "metadata": {
            "tags": []
          },
          "execution_count": 166
        }
      ]
    },
    {
      "cell_type": "markdown",
      "metadata": {
        "id": "tWUzp3PuyAOa"
      },
      "source": [
        "**K-Nearest Neighbors**"
      ]
    },
    {
      "cell_type": "code",
      "metadata": {
        "colab": {
          "base_uri": "https://localhost:8080/"
        },
        "id": "4NZmr-GAyFWW",
        "outputId": "f7bf7a20-9465-4618-cc21-f30bb255f5a6"
      },
      "source": [
        "clf = KNeighborsClassifier().fit(X, y)\n",
        "score = cross_val_score(clf, X, y, cv = k_fold, n_jobs = 1, scoring = \"accuracy\")\n",
        "print(score)"
      ],
      "execution_count": 167,
      "outputs": [
        {
          "output_type": "stream",
          "text": [
            "[0.78779473 0.74757282 0.75972222 0.76666667 0.74861111 0.75416667\n",
            " 0.75277778 0.75972222 0.76805556 0.75138889]\n"
          ],
          "name": "stdout"
        }
      ]
    },
    {
      "cell_type": "code",
      "metadata": {
        "colab": {
          "base_uri": "https://localhost:8080/"
        },
        "id": "kNst3ds0xtnZ",
        "outputId": "06bed90a-ac37-4684-e261-2b3fa456439a"
      },
      "source": [
        "score.mean()"
      ],
      "execution_count": 168,
      "outputs": [
        {
          "output_type": "execute_result",
          "data": {
            "text/plain": [
              "0.7596478656187394"
            ]
          },
          "metadata": {
            "tags": []
          },
          "execution_count": 168
        }
      ]
    },
    {
      "cell_type": "markdown",
      "metadata": {
        "id": "ISzZ9iYb0ITN"
      },
      "source": [
        "**Random Forest Classifier**"
      ]
    },
    {
      "cell_type": "code",
      "metadata": {
        "colab": {
          "base_uri": "https://localhost:8080/"
        },
        "id": "piu2BkPD0H-u",
        "outputId": "b084ca17-479f-4d17-96ee-6f7553de7e7a"
      },
      "source": [
        "clf = RandomForestClassifier().fit(X, y)\n",
        "score = cross_val_score(clf, X, y, cv = k_fold, n_jobs = 1, scoring = \"accuracy\")\n",
        "print(score)"
      ],
      "execution_count": 169,
      "outputs": [
        {
          "output_type": "stream",
          "text": [
            "[0.81137309 0.82801664 0.79722222 0.77638889 0.79861111 0.78472222\n",
            " 0.78611111 0.8        0.78888889 0.79861111]\n"
          ],
          "name": "stdout"
        }
      ]
    },
    {
      "cell_type": "code",
      "metadata": {
        "colab": {
          "base_uri": "https://localhost:8080/"
        },
        "id": "g7KyIr4y0UAv",
        "outputId": "f00b68d5-188d-4a99-a197-4f74620b260c"
      },
      "source": [
        "score.mean()"
      ],
      "execution_count": 170,
      "outputs": [
        {
          "output_type": "execute_result",
          "data": {
            "text/plain": [
              "0.7969945292032671"
            ]
          },
          "metadata": {
            "tags": []
          },
          "execution_count": 170
        }
      ]
    },
    {
      "cell_type": "markdown",
      "metadata": {
        "id": "7exNVci92wgN"
      },
      "source": [
        "**Multi-layer Perceptron Classifier**"
      ]
    },
    {
      "cell_type": "code",
      "metadata": {
        "colab": {
          "base_uri": "https://localhost:8080/"
        },
        "id": "e3efFpPV1nyh",
        "outputId": "23b0a41e-ef13-4b67-bb7c-a5d93cb78679"
      },
      "source": [
        "clf = MLPClassifier().fit(X, y)\n",
        "score = cross_val_score(clf, X, y, cv = k_fold, n_jobs = 1, scoring = \"accuracy\")\n",
        "print(score)"
      ],
      "execution_count": 171,
      "outputs": [
        {
          "output_type": "stream",
          "text": [
            "[0.84188627 0.82108183 0.8        0.80972222 0.66666667 0.80694444\n",
            " 0.54166667 0.83055556 0.6125     0.82916667]\n"
          ],
          "name": "stdout"
        }
      ]
    },
    {
      "cell_type": "code",
      "metadata": {
        "colab": {
          "base_uri": "https://localhost:8080/"
        },
        "id": "Y0tWw5kY27Wj",
        "outputId": "323affe9-24d3-4320-90f0-de44f8bcac88"
      },
      "source": [
        "score.mean()"
      ],
      "execution_count": 172,
      "outputs": [
        {
          "output_type": "execute_result",
          "data": {
            "text/plain": [
              "0.7560190322083525"
            ]
          },
          "metadata": {
            "tags": []
          },
          "execution_count": 172
        }
      ]
    },
    {
      "cell_type": "markdown",
      "metadata": {
        "id": "fSl2ruh93Qlk"
      },
      "source": [
        "**C-Support Vector Classification**"
      ]
    },
    {
      "cell_type": "code",
      "metadata": {
        "colab": {
          "base_uri": "https://localhost:8080/"
        },
        "id": "bQG9YJhn3jaP",
        "outputId": "ec2aa946-b70a-48e3-e0f5-6d410b0c0aee"
      },
      "source": [
        "clf = make_pipeline(StandardScaler(), SVC(gamma='auto')).fit(X, y)\n",
        "score = cross_val_score(clf, X, y, cv = k_fold, n_jobs = 1, scoring = \"accuracy\")\n",
        "print(score)"
      ],
      "execution_count": 173,
      "outputs": [
        {
          "output_type": "stream",
          "text": [
            "[0.80443828 0.7628294  0.74722222 0.7625     0.77222222 0.7875\n",
            " 0.77361111 0.77222222 0.80138889 0.76527778]\n"
          ],
          "name": "stdout"
        }
      ]
    },
    {
      "cell_type": "code",
      "metadata": {
        "colab": {
          "base_uri": "https://localhost:8080/"
        },
        "id": "C54o7Z2t3k2s",
        "outputId": "da0bf4c1-821a-4b14-9b72-1f18def41a4e"
      },
      "source": [
        "score.mean()"
      ],
      "execution_count": 174,
      "outputs": [
        {
          "output_type": "execute_result",
          "data": {
            "text/plain": [
              "0.7749212128216982"
            ]
          },
          "metadata": {
            "tags": []
          },
          "execution_count": 174
        }
      ]
    },
    {
      "cell_type": "markdown",
      "metadata": {
        "id": "BjL1zOCh8fbW"
      },
      "source": [
        "**Prediction**"
      ]
    },
    {
      "cell_type": "code",
      "metadata": {
        "colab": {
          "base_uri": "https://localhost:8080/",
          "height": 554
        },
        "id": "ZHhoJTwWrBzQ",
        "outputId": "3b3797be-4d28-401b-bae7-511bfd0c6a3b"
      },
      "source": [
        "matrix = plot_confusion_matrix(clf, X_test, y_test, cmap=plt.cm.Blues, normalize='true')\n",
        "plt.show(matrix)\n",
        "plt.show()"
      ],
      "execution_count": 178,
      "outputs": [
        {
          "output_type": "display_data",
          "data": {
            "image/png": "[encoded data removed]",
            "text/plain": [
              "<Figure size 1152x648 with 2 Axes>"
            ]
          },
          "metadata": {
            "tags": []
          }
        }
      ]
    },
    {
      "cell_type": "markdown",
      "metadata": {
        "id": "APYSMtUMv4at"
      },
      "source": [
        "[EN]\n",
        "\n",
        "Random forest gave the best global score. Furthemore, when assessing it with a confussion matrix we see that it was good at preventing false positive and false negatives. \n",
        "\n",
        "We finishing by predicting the values for the original test dataset.\n",
        "\n",
        "[ES]\n",
        "\n",
        "Random forest dió el mejor resultado global. Además, al evaluarlo con una matriz de confusión vemos que fue bueno para prevenir falsos positvos y falsos negativos.\n",
        "\n",
        "Terminamos prediciendo los valores de nuestro dataset original de prueba.\n"
      ]
    },
    {
      "cell_type": "code",
      "metadata": {
        "colab": {
          "base_uri": "https://localhost:8080/",
          "height": 439
        },
        "id": "JM6Ek2uC8WET",
        "outputId": "7966af6d-313a-44ee-a25d-16254ed4cd22"
      },
      "source": [
        "clf = clf = RandomForestClassifier().fit(X, y)\n",
        "test_model[\"tipo_acomodacion\"] = clf.predict(test_model)\n",
        "test_model"
      ],
      "execution_count": 175,
      "outputs": [
        {
          "output_type": "execute_result",
          "data": {
            "text/html": [
              "<div>\n",
              "<style scoped>\n",
              "    .dataframe tbody tr th:only-of-type {\n",
              "        vertical-align: middle;\n",
              "    }\n",
              "\n",
              "    .dataframe tbody tr th {\n",
              "        vertical-align: top;\n",
              "    }\n",
              "\n",
              "    .dataframe thead th {\n",
              "        text-align: right;\n",
              "    }\n",
              "</style>\n",
              "<table border=\"1\" class=\"dataframe\">\n",
              "  <thead>\n",
              "    <tr style=\"text-align: right;\">\n",
              "      <th></th>\n",
              "      <th>duracion_estadia</th>\n",
              "      <th>edad</th>\n",
              "      <th>niños</th>\n",
              "      <th>genero_F</th>\n",
              "      <th>genero_M</th>\n",
              "      <th>codigo_destino_AR</th>\n",
              "      <th>codigo_destino_COL</th>\n",
              "      <th>codigo_destino_ES</th>\n",
              "      <th>codigo_destino_IT</th>\n",
              "      <th>codigo_destino_NL</th>\n",
              "      <th>codigo_destino_PE</th>\n",
              "      <th>codigo_destino_UK</th>\n",
              "      <th>codigo_destino_US</th>\n",
              "      <th>tipo_acomodacion</th>\n",
              "    </tr>\n",
              "  </thead>\n",
              "  <tbody>\n",
              "    <tr>\n",
              "      <th>0</th>\n",
              "      <td>2</td>\n",
              "      <td>38.0</td>\n",
              "      <td>0.0</td>\n",
              "      <td>1</td>\n",
              "      <td>0</td>\n",
              "      <td>0</td>\n",
              "      <td>0</td>\n",
              "      <td>0</td>\n",
              "      <td>0</td>\n",
              "      <td>0</td>\n",
              "      <td>0</td>\n",
              "      <td>0</td>\n",
              "      <td>1</td>\n",
              "      <td>1</td>\n",
              "    </tr>\n",
              "    <tr>\n",
              "      <th>1</th>\n",
              "      <td>6</td>\n",
              "      <td>37.0</td>\n",
              "      <td>0.0</td>\n",
              "      <td>0</td>\n",
              "      <td>1</td>\n",
              "      <td>0</td>\n",
              "      <td>0</td>\n",
              "      <td>1</td>\n",
              "      <td>0</td>\n",
              "      <td>0</td>\n",
              "      <td>0</td>\n",
              "      <td>0</td>\n",
              "      <td>0</td>\n",
              "      <td>1</td>\n",
              "    </tr>\n",
              "    <tr>\n",
              "      <th>2</th>\n",
              "      <td>1</td>\n",
              "      <td>37.0</td>\n",
              "      <td>1.0</td>\n",
              "      <td>0</td>\n",
              "      <td>1</td>\n",
              "      <td>0</td>\n",
              "      <td>0</td>\n",
              "      <td>1</td>\n",
              "      <td>0</td>\n",
              "      <td>0</td>\n",
              "      <td>0</td>\n",
              "      <td>0</td>\n",
              "      <td>0</td>\n",
              "      <td>0</td>\n",
              "    </tr>\n",
              "    <tr>\n",
              "      <th>3</th>\n",
              "      <td>5</td>\n",
              "      <td>50.0</td>\n",
              "      <td>0.0</td>\n",
              "      <td>1</td>\n",
              "      <td>0</td>\n",
              "      <td>0</td>\n",
              "      <td>0</td>\n",
              "      <td>0</td>\n",
              "      <td>0</td>\n",
              "      <td>0</td>\n",
              "      <td>0</td>\n",
              "      <td>1</td>\n",
              "      <td>0</td>\n",
              "      <td>1</td>\n",
              "    </tr>\n",
              "    <tr>\n",
              "      <th>4</th>\n",
              "      <td>4</td>\n",
              "      <td>42.0</td>\n",
              "      <td>1.0</td>\n",
              "      <td>1</td>\n",
              "      <td>0</td>\n",
              "      <td>1</td>\n",
              "      <td>0</td>\n",
              "      <td>0</td>\n",
              "      <td>0</td>\n",
              "      <td>0</td>\n",
              "      <td>0</td>\n",
              "      <td>0</td>\n",
              "      <td>0</td>\n",
              "      <td>1</td>\n",
              "    </tr>\n",
              "    <tr>\n",
              "      <th>...</th>\n",
              "      <td>...</td>\n",
              "      <td>...</td>\n",
              "      <td>...</td>\n",
              "      <td>...</td>\n",
              "      <td>...</td>\n",
              "      <td>...</td>\n",
              "      <td>...</td>\n",
              "      <td>...</td>\n",
              "      <td>...</td>\n",
              "      <td>...</td>\n",
              "      <td>...</td>\n",
              "      <td>...</td>\n",
              "      <td>...</td>\n",
              "      <td>...</td>\n",
              "    </tr>\n",
              "    <tr>\n",
              "      <th>4221</th>\n",
              "      <td>5</td>\n",
              "      <td>48.0</td>\n",
              "      <td>1.0</td>\n",
              "      <td>1</td>\n",
              "      <td>0</td>\n",
              "      <td>0</td>\n",
              "      <td>0</td>\n",
              "      <td>0</td>\n",
              "      <td>0</td>\n",
              "      <td>0</td>\n",
              "      <td>1</td>\n",
              "      <td>0</td>\n",
              "      <td>0</td>\n",
              "      <td>0</td>\n",
              "    </tr>\n",
              "    <tr>\n",
              "      <th>4222</th>\n",
              "      <td>6</td>\n",
              "      <td>37.0</td>\n",
              "      <td>0.0</td>\n",
              "      <td>0</td>\n",
              "      <td>1</td>\n",
              "      <td>0</td>\n",
              "      <td>1</td>\n",
              "      <td>0</td>\n",
              "      <td>0</td>\n",
              "      <td>0</td>\n",
              "      <td>0</td>\n",
              "      <td>0</td>\n",
              "      <td>0</td>\n",
              "      <td>1</td>\n",
              "    </tr>\n",
              "    <tr>\n",
              "      <th>4223</th>\n",
              "      <td>4</td>\n",
              "      <td>42.0</td>\n",
              "      <td>1.0</td>\n",
              "      <td>0</td>\n",
              "      <td>1</td>\n",
              "      <td>0</td>\n",
              "      <td>0</td>\n",
              "      <td>0</td>\n",
              "      <td>0</td>\n",
              "      <td>0</td>\n",
              "      <td>0</td>\n",
              "      <td>1</td>\n",
              "      <td>0</td>\n",
              "      <td>1</td>\n",
              "    </tr>\n",
              "    <tr>\n",
              "      <th>4227</th>\n",
              "      <td>4</td>\n",
              "      <td>48.0</td>\n",
              "      <td>0.0</td>\n",
              "      <td>0</td>\n",
              "      <td>1</td>\n",
              "      <td>0</td>\n",
              "      <td>0</td>\n",
              "      <td>0</td>\n",
              "      <td>0</td>\n",
              "      <td>0</td>\n",
              "      <td>0</td>\n",
              "      <td>1</td>\n",
              "      <td>0</td>\n",
              "      <td>1</td>\n",
              "    </tr>\n",
              "    <tr>\n",
              "      <th>4228</th>\n",
              "      <td>2</td>\n",
              "      <td>41.0</td>\n",
              "      <td>1.0</td>\n",
              "      <td>0</td>\n",
              "      <td>1</td>\n",
              "      <td>0</td>\n",
              "      <td>0</td>\n",
              "      <td>0</td>\n",
              "      <td>0</td>\n",
              "      <td>0</td>\n",
              "      <td>0</td>\n",
              "      <td>1</td>\n",
              "      <td>0</td>\n",
              "      <td>1</td>\n",
              "    </tr>\n",
              "  </tbody>\n",
              "</table>\n",
              "<p>3079 rows × 14 columns</p>\n",
              "</div>"
            ],
            "text/plain": [
              "      duracion_estadia  edad  ...  codigo_destino_US  tipo_acomodacion\n",
              "0                    2  38.0  ...                  1                 1\n",
              "1                    6  37.0  ...                  0                 1\n",
              "2                    1  37.0  ...                  0                 0\n",
              "3                    5  50.0  ...                  0                 1\n",
              "4                    4  42.0  ...                  0                 1\n",
              "...                ...   ...  ...                ...               ...\n",
              "4221                 5  48.0  ...                  0                 0\n",
              "4222                 6  37.0  ...                  0                 1\n",
              "4223                 4  42.0  ...                  0                 1\n",
              "4227                 4  48.0  ...                  0                 1\n",
              "4228                 2  41.0  ...                  0                 1\n",
              "\n",
              "[3079 rows x 14 columns]"
            ]
          },
          "metadata": {
            "tags": []
          },
          "execution_count": 175
        }
      ]
    },
    {
      "cell_type": "markdown",
      "metadata": {
        "id": "ygkhvgRPCJB-"
      },
      "source": [
        "# Model Evaluation"
      ]
    },
    {
      "cell_type": "markdown",
      "metadata": {
        "id": "k-fdTQByxT9d"
      },
      "source": [
        "[EN]\n",
        "\n",
        "We finish this exercise by comparing the results of our original test dataset with the training dataset.\n",
        "\n",
        "[ES]\n",
        "\n",
        "Terminamos este ejercicios comparando los resultados demográficos de nuestro data set original de pruebas con el dataset de entrenamiento. "
      ]
    },
    {
      "cell_type": "code",
      "metadata": {
        "colab": {
          "base_uri": "https://localhost:8080/",
          "height": 419
        },
        "id": "RgLlHJBSCNXI",
        "outputId": "3fe81fc4-89f6-4d35-8079-136a4267b89a"
      },
      "source": [
        "result = pd.read_csv(\"/content/drive/MyDrive/Colab Notebooks/db/DataAcomodacion.csv\", encoding=\"latin-1\")\n",
        "result.drop([\"id\", \"tipo_acomodacion\"], axis=1, inplace=True)\n",
        "result.dropna(inplace=True)\n",
        "result[\"tipo_acomodacion\"] = test_model[\"tipo_acomodacion\"]\n",
        "result"
      ],
      "execution_count": null,
      "outputs": [
        {
          "output_type": "execute_result",
          "data": {
            "text/html": [
              "<div>\n",
              "<style scoped>\n",
              "    .dataframe tbody tr th:only-of-type {\n",
              "        vertical-align: middle;\n",
              "    }\n",
              "\n",
              "    .dataframe tbody tr th {\n",
              "        vertical-align: top;\n",
              "    }\n",
              "\n",
              "    .dataframe thead th {\n",
              "        text-align: right;\n",
              "    }\n",
              "</style>\n",
              "<table border=\"1\" class=\"dataframe\">\n",
              "  <thead>\n",
              "    <tr style=\"text-align: right;\">\n",
              "      <th></th>\n",
              "      <th>duracion_estadia</th>\n",
              "      <th>genero</th>\n",
              "      <th>edad</th>\n",
              "      <th>niños</th>\n",
              "      <th>codigo_destino</th>\n",
              "      <th>tipo_acomodacion</th>\n",
              "    </tr>\n",
              "  </thead>\n",
              "  <tbody>\n",
              "    <tr>\n",
              "      <th>0</th>\n",
              "      <td>2</td>\n",
              "      <td>F</td>\n",
              "      <td>38.0</td>\n",
              "      <td>0.0</td>\n",
              "      <td>US</td>\n",
              "      <td>0</td>\n",
              "    </tr>\n",
              "    <tr>\n",
              "      <th>1</th>\n",
              "      <td>6</td>\n",
              "      <td>M</td>\n",
              "      <td>37.0</td>\n",
              "      <td>0.0</td>\n",
              "      <td>ES</td>\n",
              "      <td>1</td>\n",
              "    </tr>\n",
              "    <tr>\n",
              "      <th>2</th>\n",
              "      <td>1</td>\n",
              "      <td>M</td>\n",
              "      <td>37.0</td>\n",
              "      <td>1.0</td>\n",
              "      <td>ES</td>\n",
              "      <td>0</td>\n",
              "    </tr>\n",
              "    <tr>\n",
              "      <th>3</th>\n",
              "      <td>5</td>\n",
              "      <td>F</td>\n",
              "      <td>50.0</td>\n",
              "      <td>0.0</td>\n",
              "      <td>UK</td>\n",
              "      <td>1</td>\n",
              "    </tr>\n",
              "    <tr>\n",
              "      <th>4</th>\n",
              "      <td>4</td>\n",
              "      <td>F</td>\n",
              "      <td>42.0</td>\n",
              "      <td>1.0</td>\n",
              "      <td>AR</td>\n",
              "      <td>0</td>\n",
              "    </tr>\n",
              "    <tr>\n",
              "      <th>...</th>\n",
              "      <td>...</td>\n",
              "      <td>...</td>\n",
              "      <td>...</td>\n",
              "      <td>...</td>\n",
              "      <td>...</td>\n",
              "      <td>...</td>\n",
              "    </tr>\n",
              "    <tr>\n",
              "      <th>4221</th>\n",
              "      <td>5</td>\n",
              "      <td>F</td>\n",
              "      <td>48.0</td>\n",
              "      <td>1.0</td>\n",
              "      <td>PE</td>\n",
              "      <td>0</td>\n",
              "    </tr>\n",
              "    <tr>\n",
              "      <th>4222</th>\n",
              "      <td>6</td>\n",
              "      <td>M</td>\n",
              "      <td>37.0</td>\n",
              "      <td>0.0</td>\n",
              "      <td>COL</td>\n",
              "      <td>1</td>\n",
              "    </tr>\n",
              "    <tr>\n",
              "      <th>4223</th>\n",
              "      <td>4</td>\n",
              "      <td>M</td>\n",
              "      <td>42.0</td>\n",
              "      <td>1.0</td>\n",
              "      <td>UK</td>\n",
              "      <td>1</td>\n",
              "    </tr>\n",
              "    <tr>\n",
              "      <th>4227</th>\n",
              "      <td>4</td>\n",
              "      <td>M</td>\n",
              "      <td>48.0</td>\n",
              "      <td>0.0</td>\n",
              "      <td>UK</td>\n",
              "      <td>1</td>\n",
              "    </tr>\n",
              "    <tr>\n",
              "      <th>4228</th>\n",
              "      <td>2</td>\n",
              "      <td>M</td>\n",
              "      <td>41.0</td>\n",
              "      <td>1.0</td>\n",
              "      <td>UK</td>\n",
              "      <td>1</td>\n",
              "    </tr>\n",
              "  </tbody>\n",
              "</table>\n",
              "<p>3079 rows × 6 columns</p>\n",
              "</div>"
            ],
            "text/plain": [
              "      duracion_estadia genero  edad  niños codigo_destino  tipo_acomodacion\n",
              "0                    2      F  38.0    0.0             US                 0\n",
              "1                    6      M  37.0    0.0             ES                 1\n",
              "2                    1      M  37.0    1.0             ES                 0\n",
              "3                    5      F  50.0    0.0             UK                 1\n",
              "4                    4      F  42.0    1.0             AR                 0\n",
              "...                ...    ...   ...    ...            ...               ...\n",
              "4221                 5      F  48.0    1.0             PE                 0\n",
              "4222                 6      M  37.0    0.0            COL                 1\n",
              "4223                 4      M  42.0    1.0             UK                 1\n",
              "4227                 4      M  48.0    0.0             UK                 1\n",
              "4228                 2      M  41.0    1.0             UK                 1\n",
              "\n",
              "[3079 rows x 6 columns]"
            ]
          },
          "metadata": {
            "tags": []
          },
          "execution_count": 127
        }
      ]
    },
    {
      "cell_type": "code",
      "metadata": {
        "colab": {
          "base_uri": "https://localhost:8080/"
        },
        "id": "hizYNMRiEG4b",
        "outputId": "96e8ae8d-1d88-489b-9ec7-6c1dc66185e6"
      },
      "source": [
        "hotel = result[result[\"tipo_acomodacion\"] == 1]\n",
        "air = result[result[\"tipo_acomodacion\"] == 0]\n",
        "print(hotel.describe())\n",
        "print(air.describe())"
      ],
      "execution_count": null,
      "outputs": [
        {
          "output_type": "stream",
          "text": [
            "       duracion_estadia         edad        niños  tipo_acomodacion\n",
            "count       1695.000000  1695.000000  1695.000000            1695.0\n",
            "mean           3.991150    40.440708     0.516814               1.0\n",
            "std            1.761598     5.132356     0.499865               0.0\n",
            "min            1.000000    22.000000     0.000000               1.0\n",
            "25%            3.000000    37.000000     0.000000               1.0\n",
            "50%            4.000000    40.000000     1.000000               1.0\n",
            "75%            5.000000    44.000000     1.000000               1.0\n",
            "max           12.000000    57.000000     1.000000               1.0\n",
            "       duracion_estadia         edad        niños  tipo_acomodacion\n",
            "count       1384.000000  1384.000000  1384.000000            1384.0\n",
            "mean           3.924855    40.599711     0.487717               0.0\n",
            "std            1.710455     4.887323     0.500030               0.0\n",
            "min            1.000000    22.000000     0.000000               0.0\n",
            "25%            3.000000    37.000000     0.000000               0.0\n",
            "50%            4.000000    41.000000     0.000000               0.0\n",
            "75%            5.000000    44.000000     1.000000               0.0\n",
            "max           11.000000    59.000000     1.000000               0.0\n"
          ],
          "name": "stdout"
        }
      ]
    },
    {
      "cell_type": "code",
      "metadata": {
        "colab": {
          "base_uri": "https://localhost:8080/"
        },
        "id": "SU8gVivrEgtX",
        "outputId": "236a62d2-7c87-4bcf-c577-77957b22723f"
      },
      "source": [
        "print(hotel.genero.value_counts().sort_values())\n",
        "print(air.genero.value_counts().sort_values())"
      ],
      "execution_count": null,
      "outputs": [
        {
          "output_type": "stream",
          "text": [
            "M    847\n",
            "F    848\n",
            "Name: genero, dtype: int64\n",
            "F    674\n",
            "M    710\n",
            "Name: genero, dtype: int64\n"
          ],
          "name": "stdout"
        }
      ]
    },
    {
      "cell_type": "code",
      "metadata": {
        "colab": {
          "base_uri": "https://localhost:8080/",
          "height": 537
        },
        "id": "SqErt1N-EiIa",
        "outputId": "976e9d25-e468-4893-fe42-ccbec65189ed"
      },
      "source": [
        "result.genero.value_counts().sort_values().plot(kind = \"pie\")"
      ],
      "execution_count": null,
      "outputs": [
        {
          "output_type": "execute_result",
          "data": {
            "text/plain": [
              "<matplotlib.axes._subplots.AxesSubplot at 0x7f15ffd6f320>"
            ]
          },
          "metadata": {
            "tags": []
          },
          "execution_count": 130
        },
        {
          "output_type": "display_data",
          "data": {
            "image/png": "[encoded data removed]",
            "text/plain": [
              "<Figure size 1152x648 with 1 Axes>"
            ]
          },
          "metadata": {
            "tags": []
          }
        }
      ]
    },
    {
      "cell_type": "code",
      "metadata": {
        "id": "530rTuN-EtNh",
        "colab": {
          "base_uri": "https://localhost:8080/"
        },
        "outputId": "e55dd498-0a6b-45b9-806e-73347488b5ea"
      },
      "source": [
        "print(hotel.codigo_destino.value_counts().sort_values())\n",
        "print(air.codigo_destino.value_counts().sort_values())"
      ],
      "execution_count": 133,
      "outputs": [
        {
          "output_type": "stream",
          "text": [
            "NL     191\n",
            "COL    206\n",
            "US     207\n",
            "ES     208\n",
            "PE     208\n",
            "AR     211\n",
            "UK     225\n",
            "IT     239\n",
            "Name: codigo_destino, dtype: int64\n",
            "AR     154\n",
            "UK     157\n",
            "US     164\n",
            "IT     175\n",
            "PE     175\n",
            "ES     184\n",
            "COL    187\n",
            "NL     188\n",
            "Name: codigo_destino, dtype: int64\n"
          ],
          "name": "stdout"
        }
      ]
    },
    {
      "cell_type": "code",
      "metadata": {
        "colab": {
          "base_uri": "https://localhost:8080/",
          "height": 537
        },
        "id": "3L4-fQvoFuqY",
        "outputId": "ee9abda3-aca3-4fbf-fc4e-79d2cc8b28a0"
      },
      "source": [
        "result.codigo_destino.value_counts().sort_values().plot(kind = \"pie\")"
      ],
      "execution_count": 134,
      "outputs": [
        {
          "output_type": "execute_result",
          "data": {
            "text/plain": [
              "<matplotlib.axes._subplots.AxesSubplot at 0x7f15ffc6b7f0>"
            ]
          },
          "metadata": {
            "tags": []
          },
          "execution_count": 134
        },
        {
          "output_type": "display_data",
          "data": {
            "image/png": "[encoded data removed]",
            "text/plain": [
              "<Figure size 1152x648 with 1 Axes>"
            ]
          },
          "metadata": {
            "tags": []
          }
        }
      ]
    },
    {
      "cell_type": "markdown",
      "metadata": {
        "id": "Bhp4BzaGxzz1"
      },
      "source": [
        "[EN]\n",
        "\n",
        "The predictions made on our original test dataset reflect well on the our training dataset. We can thus say that our model had an overall fine performance.\n",
        "\n",
        "We finish this exercise by creating dummy data to further test our model.\n",
        "\n",
        "[ES]\n",
        "\n",
        "Las predicciones hechas en nuestro dataset original de prueba reflejan bien el dataset original. Podemos entonces decir que nuestro modelo tuvo un buen desempeño.\n",
        "\n",
        "Terminamos este ejercicio creando datos dummies para terminar de testear nuestro modelo. "
      ]
    },
    {
      "cell_type": "code",
      "metadata": {
        "colab": {
          "base_uri": "https://localhost:8080/"
        },
        "id": "nchtftn6GVVw",
        "outputId": "eb9c43b3-f713-4799-cce4-073c2da00c7f"
      },
      "source": [
        "testing_data = [[4, 25, 0, 1, 0, 0, 1, 0, 0, 0, 0, 0, 0],\n",
        "                [9, 43, 1, 0, 1, 0, 0, 0, 1, 0, 0, 0, 0]]\n",
        "\n",
        "for i, pred in enumerate(clf.predict(testing_data)):\n",
        "  print(\"Acomodación recomendada para el usuario No.{}: {:,}\".format(i+1, pred))"
      ],
      "execution_count": 176,
      "outputs": [
        {
          "output_type": "stream",
          "text": [
            "Acomodación recomendada para el usuario No.1: 0\n",
            "Acomodación recomendada para el usuario No.2: 1\n"
          ],
          "name": "stdout"
        }
      ]
    }
  ]
}